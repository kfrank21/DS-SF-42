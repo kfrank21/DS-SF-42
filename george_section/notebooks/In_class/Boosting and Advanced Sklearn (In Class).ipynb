{
 "cells": [
  {
   "cell_type": "markdown",
   "metadata": {},
   "source": [
    "# Boosting, Classification Metrics and Advanced Sklearn"
   ]
  },
  {
   "cell_type": "markdown",
   "metadata": {},
   "source": [
    "<b>Goals</b>\n",
    "\n",
    "- Follow up our lesson on ensemble methods with boosting, what it is and how it works.\n",
    "- Use the Adaptive (ADA) Boosting Classifier.\n",
    "- Refresher lesson on model evaluation tolls beyond accuracy score: sensitivity, recall, precision, and roc_auc\n",
    "- How to use high-powered tools in sklearn to optimize your models and minimize your work load and time"
   ]
  },
  {
   "cell_type": "code",
   "execution_count": null,
   "metadata": {
    "collapsed": true
   },
   "outputs": [],
   "source": []
  },
  {
   "cell_type": "markdown",
   "metadata": {},
   "source": [
    "## Boosting"
   ]
  },
  {
   "cell_type": "markdown",
   "metadata": {},
   "source": [
    "- Boosting is an ensemble method where a model is comprised of a sequence of models, as opposed to a set of parallel models as with Random Forest.\n",
    "- Unlike bagging, boosting uses random subsets of training data <b>WITHOUT</b> replacement.\n",
    "- It is an iterative process. Begins by training simple model on the whole data, pinpoints the inaccuracies, and trains a new model to target those inaccuracies (misclassification rate, residuals.) The new models try to predict what the previous ones were unable to correctly predict. Repeat until reaching a stopping point parameter. The whole set of models is what's used to make predictions.\n",
    "- Boosting process:\n",
    "    - Randomly select a batch of data from training dataset without replacement to train \"weak learner.\"\n",
    "    - Randomly select a second batch of data from training dataset without replacement AND add around half of the samples that were misclassified from the previous model.\n",
    "    - Go back to the original training dataset and retrieve the data points in which the two models had differing classifications.\n",
    "    - Make predictions by combining the system of weak learners and takin the vote (classification) or avearge (regression.)\n",
    "    \n",
    "- Can be used both for regression and classification"
   ]
  },
  {
   "cell_type": "code",
   "execution_count": null,
   "metadata": {
    "collapsed": true
   },
   "outputs": [],
   "source": []
  },
  {
   "cell_type": "code",
   "execution_count": null,
   "metadata": {
    "collapsed": true
   },
   "outputs": [],
   "source": []
  },
  {
   "cell_type": "markdown",
   "metadata": {},
   "source": [
    "### AdaBoost Classifier"
   ]
  },
  {
   "cell_type": "markdown",
   "metadata": {},
   "source": [
    "- The AdaBoost (Adaptive Boosting) algorithm fits sequential weak classifiers, which are classifiers that are slightly better than random chance. These classifiers are usually tree-based models with a lower depth level. Adaboost actually uses the whole training dataset instead of sample. The data is weighted in each iteration of modeling to help it learn from the mistakes of the previous models."
   ]
  },
  {
   "cell_type": "markdown",
   "metadata": {},
   "source": [
    "- The weak learners in the AdaBoost algorithm are Decision Trees with one depth-level aka \"Decision Stumps.\" They literally only use one decision.\n",
    "\n",
    "- Each data point in the training data is assigned a weight. In the first model, every point has the same weight value which equal 1/number of values. \n",
    "\n",
    "- The first Decision Stump is fit on the whole data using weighted samples. Only works with binary clasification problems. The model outputs either a 1 or - 1, irregardless of the class labels in the target variable. \n",
    "\n",
    "- Error determined by the misclassification rate, which is 1 - accuracy score. Accuracy score of 0.71 means error rate of 0.29.\n",
    "\n",
    "- However error significantly changes when differents are introduced. \n",
    "\n",
    "- With weights, error = sum(w(i) * terror(i)) / sum(w). If terror is 1, then equals wrong prediction, 0 if correct."
   ]
  },
  {
   "cell_type": "markdown",
   "metadata": {},
   "source": [
    "AdaBoost visually explained:\n",
    "\n",
    "![a](https://www.analyticsvidhya.com/wp-content/uploads/2015/11/bigd.png)\n",
    "\n",
    "Source: [Analytics Vidhya](https://www.analyticsvidhya.com/blog/2015/11/quick-introduction-boosting-algorithms-machine-learning/)"
   ]
  },
  {
   "cell_type": "markdown",
   "metadata": {},
   "source": [
    "Box 1: Each data point has equal weighting is fit on a decision stump which is a vertical line.\n",
    "\n",
    "<br>\n",
    "\n",
    "Box 2: The three plus signs that were incorrectly classified in Box 1 have been enlarged (weighted) and the model has been retrained.\n",
    "\n",
    "<br>\n",
    "\n",
    "Box 3: Three minus signs have been given bigger weight values and the new model (horizontal line) has been fit to account for that.\n",
    "\n",
    "<br>\n",
    "\n",
    "Box 4: Combines the three Decision stump models, which vastly outperforms any of the three stumps."
   ]
  },
  {
   "cell_type": "code",
   "execution_count": null,
   "metadata": {
    "collapsed": true
   },
   "outputs": [],
   "source": []
  },
  {
   "cell_type": "code",
   "execution_count": null,
   "metadata": {
    "collapsed": true
   },
   "outputs": [],
   "source": []
  },
  {
   "cell_type": "code",
   "execution_count": null,
   "metadata": {
    "collapsed": true
   },
   "outputs": [],
   "source": []
  },
  {
   "cell_type": "markdown",
   "metadata": {},
   "source": [
    "Let's manually calculate weights"
   ]
  },
  {
   "cell_type": "code",
   "execution_count": 1,
   "metadata": {
    "collapsed": true
   },
   "outputs": [],
   "source": [
    "#List of weights\n",
    "w = [0.2, 0.2, 0.2, 0.2, 0.2]\n",
    "#List of actual values\n",
    "y = [1,  1, -1, 1, -1]\n",
    "#List of predictions\n",
    "p = [-1, 1, 1, 1, -1]\n",
    "#List or terrors\n",
    "t = [1, 0, 1, 0 , 0]"
   ]
  },
  {
   "cell_type": "code",
   "execution_count": 2,
   "metadata": {},
   "outputs": [
    {
     "data": {
      "text/plain": [
       "0.4"
      ]
     },
     "execution_count": 2,
     "metadata": {},
     "output_type": "execute_result"
    }
   ],
   "source": [
    "#Regular error rate calculation\n",
    "(1 + 0 + 1 + 0 + 0)/(1 + 1 + 1 + 1 + 1.)"
   ]
  },
  {
   "cell_type": "code",
   "execution_count": 3,
   "metadata": {},
   "outputs": [
    {
     "data": {
      "text/plain": [
       "0.4"
      ]
     },
     "execution_count": 3,
     "metadata": {},
     "output_type": "execute_result"
    }
   ],
   "source": [
    "#Error calculation with weights (same product as above)\n",
    "e = (0.2 * 1 + 0.2 * 0 + 0.2 * 1 + 0.2 * 0 + 0.2 * 0)/ (0.2 + 0.2 + 0.2 + 0.2 + 0.2)\n",
    "e"
   ]
  },
  {
   "cell_type": "markdown",
   "metadata": {},
   "source": [
    "In the next part we pass in the error rate through this function: 0.5 * log((1-e)/e)\n",
    "\n",
    "This gives a coefficient: a"
   ]
  },
  {
   "cell_type": "code",
   "execution_count": 4,
   "metadata": {},
   "outputs": [
    {
     "data": {
      "text/plain": [
       "0.2027325540540821"
      ]
     },
     "execution_count": 4,
     "metadata": {},
     "output_type": "execute_result"
    }
   ],
   "source": [
    "#Import numpy\n",
    "import numpy as np\n",
    "\n",
    "a = 0.5 * np.log((1 - e)/ e)\n",
    "a"
   ]
  },
  {
   "cell_type": "markdown",
   "metadata": {},
   "source": [
    "We use this value to update our new weights.\n",
    "\n",
    "Formula is old weight value times the exponent of the negative value of a times prediction times actual value"
   ]
  },
  {
   "cell_type": "code",
   "execution_count": 5,
   "metadata": {},
   "outputs": [
    {
     "name": "stdout",
     "output_type": "stream",
     "text": [
      "(0.2449489742783178, 0.16329931618554525, 0.2449489742783178, 0.16329931618554525, 0.16329931618554525)\n"
     ]
    }
   ],
   "source": [
    "#First value\n",
    "\n",
    "w1 = 0.2 * np.exp(-a * 1 * -1)\n",
    "\n",
    "\n",
    "w2 = 0.2 * np.exp(-a * 1 * 1)\n",
    "\n",
    "\n",
    "w3 = 0.2 * np.exp(-a * 1 * -1)\n",
    "\n",
    "\n",
    "w4 = 0.2 * np.exp(-a * 1 * 1)\n",
    "\n",
    "\n",
    "w5 = 0.2 * np.exp(-a * 1 * 1)\n",
    "\n",
    "\n",
    "print (w1, w2, w3, w4, w5)"
   ]
  },
  {
   "cell_type": "markdown",
   "metadata": {},
   "source": [
    "Weights go up for wrong predictions and go down for correct ones.\n",
    "\n",
    "We're not finished yet."
   ]
  },
  {
   "cell_type": "markdown",
   "metadata": {},
   "source": [
    "Then we normalize the weight by diving each weight by the sum of weights"
   ]
  },
  {
   "cell_type": "code",
   "execution_count": 6,
   "metadata": {},
   "outputs": [
    {
     "name": "stdout",
     "output_type": "stream",
     "text": [
      "(0.24999999999999994, 0.16666666666666669, 0.24999999999999994, 0.16666666666666669, 0.16666666666666669)\n"
     ]
    }
   ],
   "source": [
    "weight_sum = w1 + w2 + w3 + w4 + w5\n",
    "\n",
    "#New weights\n",
    "w1 = w1/(weight_sum)\n",
    "w2 = w2/(weight_sum)\n",
    "w3 = w3/(weight_sum)\n",
    "w4 = w4/(weight_sum)\n",
    "w5 = w5/(weight_sum)\n",
    "\n",
    "print (w1, w2, w3, w4, w5)"
   ]
  },
  {
   "cell_type": "markdown",
   "metadata": {},
   "source": [
    "These are our new weights which we'll use in the next round of modeling"
   ]
  },
  {
   "cell_type": "markdown",
   "metadata": {},
   "source": [
    "In the follow - up model, a second Decision Stump model is trained using our new weights. The weights are used to determine the split in the decision tree. This process continues until we reach the n_estimators parameter we set."
   ]
  },
  {
   "cell_type": "markdown",
   "metadata": {},
   "source": [
    "Increasing the weights for the mis-classified data points forces the models to train more heavily on the data it incorrectly classified."
   ]
  },
  {
   "cell_type": "markdown",
   "metadata": {},
   "source": [
    "### Predictions"
   ]
  },
  {
   "cell_type": "markdown",
   "metadata": {},
   "source": [
    "- AdaBoost makes predictions by calculating the weighted average of the sequence of Decision Stumps. \n",
    "\n",
    "- When you pass in a new data point, the model predicts 1 or -1.\n",
    "\n",
    "- The weights of each model by each one's stage value. The prediction is derived from the sum of the of the weighted predictions. If sum > 0 then return the first class else return second class."
   ]
  },
  {
   "cell_type": "code",
   "execution_count": 7,
   "metadata": {},
   "outputs": [
    {
     "data": {
      "text/plain": [
       "-1"
      ]
     },
     "execution_count": 7,
     "metadata": {},
     "output_type": "execute_result"
    }
   ],
   "source": [
    "#Five model predictions\n",
    "preds = np.array([-1, -1, 1, -1, 1])\n",
    "preds.sum()"
   ]
  },
  {
   "cell_type": "markdown",
   "metadata": {},
   "source": [
    "Without weighting the prediction would be -1."
   ]
  },
  {
   "cell_type": "code",
   "execution_count": 8,
   "metadata": {},
   "outputs": [
    {
     "data": {
      "text/plain": [
       "0.8"
      ]
     },
     "execution_count": 8,
     "metadata": {},
     "output_type": "execute_result"
    }
   ],
   "source": [
    "weights = np.array([.2, .4, .8, .3, .9])\n",
    "\n",
    "sum(weights * preds)"
   ]
  },
  {
   "cell_type": "markdown",
   "metadata": {},
   "source": [
    "Prediction with weighted models equals 1."
   ]
  },
  {
   "cell_type": "code",
   "execution_count": null,
   "metadata": {
    "collapsed": true
   },
   "outputs": [],
   "source": []
  },
  {
   "cell_type": "markdown",
   "metadata": {},
   "source": [
    "<b>Warnings</b>\n",
    "\n",
    "- Requires rich data noisy data by design can negatively influence model.\n",
    "- Same goes with outliers, the model will chase outliers."
   ]
  },
  {
   "cell_type": "code",
   "execution_count": null,
   "metadata": {
    "collapsed": true
   },
   "outputs": [],
   "source": []
  },
  {
   "cell_type": "markdown",
   "metadata": {},
   "source": [
    "### Coding AdaBoost\n",
    "\n",
    "1. Visualize the decision boundaries of AdaBoost\n",
    "\n",
    "2. Use AdaBoost on the spotify dataset"
   ]
  },
  {
   "cell_type": "code",
   "execution_count": 9,
   "metadata": {},
   "outputs": [
    {
     "name": "stderr",
     "output_type": "stream",
     "text": [
      "/Users/kevinfranklin/anaconda2/envs/py27/lib/python2.7/site-packages/sklearn/cross_validation.py:41: DeprecationWarning: This module was deprecated in version 0.18 in favor of the model_selection module into which all the refactored classes and functions are moved. Also note that the interface of the new CV iterators are different from that of this module. This module will be removed in 0.20.\n",
      "  \"This module will be removed in 0.20.\", DeprecationWarning)\n"
     ]
    }
   ],
   "source": [
    "#Imports\n",
    "import pandas as pd\n",
    "import matplotlib.pyplot as plt\n",
    "%matplotlib inline\n",
    "from sklearn.cross_validation import train_test_split, cross_val_score\n",
    "from sklearn.datasets import make_classification\n",
    "from sklearn.tree import DecisionTreeClassifier\n",
    "from sklearn.ensemble import AdaBoostClassifier\n",
    "from sklearn.metrics import confusion_matrix, recall_score, precision_score, roc_auc_score, roc_curve"
   ]
  },
  {
   "cell_type": "markdown",
   "metadata": {},
   "source": [
    "Generate and visualize fake data"
   ]
  },
  {
   "cell_type": "code",
   "execution_count": 10,
   "metadata": {},
   "outputs": [
    {
     "data": {
      "image/png": "[encoded data removed]",
      "text/plain": [
       "<matplotlib.figure.Figure at 0x10dba9810>"
      ]
     },
     "metadata": {},
     "output_type": "display_data"
    }
   ],
   "source": [
    "\n",
    "#Generate fake data that is 400 x 2.\n",
    "data = make_classification(n_samples=400, n_features=2, n_informative=2, n_redundant=0, \n",
    "                    class_sep=.54, random_state = 8)\n",
    "\n",
    "df = pd.DataFrame(data[0], columns=[\"feature1\", \"feature2\"])\n",
    "#Add target variable to df \n",
    "df[\"target\"] = data[1]\n",
    "\n",
    "#Call scatter plot of feature1 vs feature2 with color-encoded target variable\n",
    "plt.style.use(\"fivethirtyeight\")\n",
    "plt.figure(figsize=(11, 8))\n",
    "#Color encode target variable\n",
    "colors = df.target.map({0:\"b\", 1:\"r\"})\n",
    "plt.scatter(df.feature1, df.feature2, c = colors, s = 100, alpha=.5);"
   ]
  },
  {
   "cell_type": "code",
   "execution_count": 13,
   "metadata": {},
   "outputs": [
    {
     "data": {
      "text/plain": [
       "DecisionTreeClassifier(class_weight=None, criterion='gini', max_depth=2,\n",
       "            max_features=None, max_leaf_nodes=None,\n",
       "            min_impurity_decrease=0.0, min_impurity_split=None,\n",
       "            min_samples_leaf=1, min_samples_split=2,\n",
       "            min_weight_fraction_leaf=0.0, presort=False, random_state=None,\n",
       "            splitter='best')"
      ]
     },
     "execution_count": 13,
     "metadata": {},
     "output_type": "execute_result"
    }
   ],
   "source": [
    "#Assign X and y\n",
    "X = df.drop('target', axis = 1)\n",
    "y = df.target\n",
    "\n",
    "#Fit a Decision Tree model with max_depth = 2 on the data.\n",
    "\n",
    "dt = DecisionTreeClassifier(max_depth=2)\n",
    "\n",
    "dt.fit(X,y)"
   ]
  },
  {
   "cell_type": "code",
   "execution_count": 39,
   "metadata": {
    "collapsed": true
   },
   "outputs": [],
   "source": [
    "#Decision boundary function\n",
    "def plot_decision_boundary(model, X, y):\n",
    "    X_max = X.max(axis=0)\n",
    "    X_min = X.min(axis=0)\n",
    "    xticks = np.linspace(X_min[0], X_max[0], 100)\n",
    "    yticks = np.linspace(X_min[1], X_max[1], 100)\n",
    "    xx, yy = np.meshgrid(xticks, yticks)\n",
    "    ZZ = model.predict(np.c_[xx.ravel(), yy.ravel()])\n",
    "    Z = ZZ >= 0.5\n",
    "    Z = Z.reshape(xx.shape)\n",
    "    plt.rcParams[\"figure.figsize\"] = (10,7)\n",
    "    fig, ax = plt.subplots()\n",
    "    ax = plt.gca()\n",
    "    ax.contourf(xx, yy, Z, cmap=plt.cm.bwr, alpha=0.2)\n",
    "    ax.scatter(X[:,0], X[:,1], c=y, alpha=0.4, s = 50)"
   ]
  },
  {
   "cell_type": "code",
   "execution_count": 40,
   "metadata": {},
   "outputs": [
    {
     "data": {
      "image/png": "[encoded data removed]",
      "text/plain": [
       "<matplotlib.figure.Figure at 0x113b91b10>"
      ]
     },
     "metadata": {},
     "output_type": "display_data"
    }
   ],
   "source": [
    "#Feed dt model, features and colors\n",
    "colors = y.map({0:'b', 1:'r'})\n",
    "plot_decision_boundary(dt, X.values, colors);"
   ]
  },
  {
   "cell_type": "code",
   "execution_count": 41,
   "metadata": {},
   "outputs": [
    {
     "data": {
      "image/png": "[encoded data removed]",
      "text/plain": [
       "<matplotlib.figure.Figure at 0x113da3090>"
      ]
     },
     "metadata": {},
     "output_type": "display_data"
    }
   ],
   "source": [
    "#Train AdaBoost model on the same data and visualize it\n",
    "\n",
    "#Intialize AdaBoost model with 20 estimators\n",
    "ada = AdaBoostClassifier(n_estimators=20)\n",
    "\n",
    "#Fit model\n",
    "ada.fit(X,y)\n",
    "\n",
    "#Visualize model boundaries\n",
    "plot_decision_boundary(ada, X.values, colors)"
   ]
  },
  {
   "cell_type": "code",
   "execution_count": null,
   "metadata": {
    "collapsed": true
   },
   "outputs": [],
   "source": []
  },
  {
   "cell_type": "code",
   "execution_count": null,
   "metadata": {
    "collapsed": true
   },
   "outputs": [],
   "source": []
  },
  {
   "cell_type": "markdown",
   "metadata": {},
   "source": [
    "## <b> Using Spotify data to predict whether or not I will like a song? </b>"
   ]
  },
  {
   "cell_type": "markdown",
   "metadata": {},
   "source": [
    "<b> Attributes </b>\n",
    "\n",
    "\n",
    "    Acousticness: A confidence measure from 0.0 to 1.0 of whether the track is acoustic. 1.0 represents high confidence the track is acoustic.\n",
    "    \n",
    "    Danceability: Danceability describes how suitable a track is for dancing based on a combination of musical elements including tempo, rhythm stability, beat strength, and overall regularity. A value of 0.0 is least danceable and 1.0 is most danceable.\n",
    "\n",
    "    Instrumentalness: Predicts whether a track contains no vocals. \"Ooh\" and \"aah\" sounds are treated as instrumental in this context. Rap or spoken word tracks are clearly \"vocal\". The closer the instrumentalness value is to 1.0, the greater likelihood the track contains no vocal content. Values above 0.5 are intended to represent instrumental tracks, but confidence is higher as the value approaches 1.0.\n",
    "    \n",
    "    Loudness: The overall loudness of a track in decibels (dB). Loudness values are averaged across the entire track and are useful for comparing relative loudness of tracks. Loudness is the quality of a sound that is the primary psychological correlate of physical strength (amplitude). Values typical range between -60 and 0 db.\n",
    "    \n",
    "    Mode: Mode indicates the modality (major or minor) of a track, the type of scale from which its melodic content is derived. Major is represented by 1 and minor is 0.\n",
    "\n",
    "    Valence: A measure from 0.0 to 1.0 describing the musical positiveness conveyed by a track. Tracks with high valence sound more positive (e.g. happy, cheerful, euphoric), while tracks with low valence sound more negative (e.g. sad, depressed, angry).\n",
    "    \n",
    "    Tempo: The overall estimated tempo of a track in beats per minute (BPM). In musical terminology, tempo is the speed or pace of a given piece and derives directly from the average beat duration.\n",
    "\n",
    "    Energy: Energy is a measure from 0.0 to 1.0 and represents a perceptual measure of intensity and activity. Typically, energetic tracks feel fast, loud, and noisy. For example, death metal has high energy, while a Bach prelude scores low on the scale. Perceptual features contributing to this attribute include dynamic range, perceived loudness, timbre, onset rate, and general entropy.\n",
    "    \n",
    "More information here https://developer.spotify.com/web-api/get-audio-features/"
   ]
  },
  {
   "cell_type": "markdown",
   "metadata": {},
   "source": [
    "Link to my article about the project: https://opendatascience.com/blog/a-machine-learning-deep-dive-into-my-spotify-data/"
   ]
  },
  {
   "cell_type": "code",
   "execution_count": 42,
   "metadata": {
    "collapsed": true
   },
   "outputs": [],
   "source": [
    "#Import spotify data\n",
    "\n",
    "spotify = pd.read_csv(\"../../data/spotify_data.csv\", index_col=[0])\n"
   ]
  },
  {
   "cell_type": "code",
   "execution_count": 43,
   "metadata": {},
   "outputs": [
    {
     "data": {
      "text/html": [
       "<div>\n",
       "<style scoped>\n",
       "    .dataframe tbody tr th:only-of-type {\n",
       "        vertical-align: middle;\n",
       "    }\n",
       "\n",
       "    .dataframe tbody tr th {\n",
       "        vertical-align: top;\n",
       "    }\n",
       "\n",
       "    .dataframe thead th {\n",
       "        text-align: right;\n",
       "    }\n",
       "</style>\n",
       "<table border=\"1\" class=\"dataframe\">\n",
       "  <thead>\n",
       "    <tr style=\"text-align: right;\">\n",
       "      <th></th>\n",
       "      <th>acousticness</th>\n",
       "      <th>danceability</th>\n",
       "      <th>instrumentalness</th>\n",
       "      <th>valence</th>\n",
       "      <th>energy</th>\n",
       "      <th>target</th>\n",
       "    </tr>\n",
       "  </thead>\n",
       "  <tbody>\n",
       "    <tr>\n",
       "      <th>Mask_Off***Future</th>\n",
       "      <td>0.0102</td>\n",
       "      <td>0.833</td>\n",
       "      <td>0.021900</td>\n",
       "      <td>0.286</td>\n",
       "      <td>0.434</td>\n",
       "      <td>1</td>\n",
       "    </tr>\n",
       "    <tr>\n",
       "      <th>Redbone***Childish_Gambino</th>\n",
       "      <td>0.1990</td>\n",
       "      <td>0.743</td>\n",
       "      <td>0.006110</td>\n",
       "      <td>0.588</td>\n",
       "      <td>0.359</td>\n",
       "      <td>1</td>\n",
       "    </tr>\n",
       "    <tr>\n",
       "      <th>Xanny_Family***Future</th>\n",
       "      <td>0.0344</td>\n",
       "      <td>0.838</td>\n",
       "      <td>0.000234</td>\n",
       "      <td>0.173</td>\n",
       "      <td>0.412</td>\n",
       "      <td>1</td>\n",
       "    </tr>\n",
       "    <tr>\n",
       "      <th>Master_Of_None***Beach_House</th>\n",
       "      <td>0.6040</td>\n",
       "      <td>0.494</td>\n",
       "      <td>0.510000</td>\n",
       "      <td>0.230</td>\n",
       "      <td>0.338</td>\n",
       "      <td>1</td>\n",
       "    </tr>\n",
       "    <tr>\n",
       "      <th>Parallel_Lines***Junior_Boys</th>\n",
       "      <td>0.1800</td>\n",
       "      <td>0.678</td>\n",
       "      <td>0.512000</td>\n",
       "      <td>0.904</td>\n",
       "      <td>0.561</td>\n",
       "      <td>1</td>\n",
       "    </tr>\n",
       "  </tbody>\n",
       "</table>\n",
       "</div>"
      ],
      "text/plain": [
       "                              acousticness  danceability  instrumentalness  \\\n",
       "Mask_Off***Future                   0.0102         0.833          0.021900   \n",
       "Redbone***Childish_Gambino          0.1990         0.743          0.006110   \n",
       "Xanny_Family***Future               0.0344         0.838          0.000234   \n",
       "Master_Of_None***Beach_House        0.6040         0.494          0.510000   \n",
       "Parallel_Lines***Junior_Boys        0.1800         0.678          0.512000   \n",
       "\n",
       "                              valence  energy  target  \n",
       "Mask_Off***Future               0.286   0.434       1  \n",
       "Redbone***Childish_Gambino      0.588   0.359       1  \n",
       "Xanny_Family***Future           0.173   0.412       1  \n",
       "Master_Of_None***Beach_House    0.230   0.338       1  \n",
       "Parallel_Lines***Junior_Boys    0.904   0.561       1  "
      ]
     },
     "execution_count": 43,
     "metadata": {},
     "output_type": "execute_result"
    }
   ],
   "source": [
    "spotify.head()"
   ]
  },
  {
   "cell_type": "markdown",
   "metadata": {},
   "source": [
    "Compare and contrast Decision Trees and AdaBoost"
   ]
  },
  {
   "cell_type": "code",
   "execution_count": 44,
   "metadata": {
    "collapsed": true
   },
   "outputs": [],
   "source": [
    "\n",
    "#Intialize AdaBoost with 300 estimators\n",
    "ada = AdaBoostClassifier(n_estimators=300)\n"
   ]
  },
  {
   "cell_type": "code",
   "execution_count": 45,
   "metadata": {
    "collapsed": true
   },
   "outputs": [],
   "source": [
    "#Assign X and y\n",
    "\n",
    "X = spotify.drop('target', axis=1)\n",
    "\n",
    "y = spotify.target"
   ]
  },
  {
   "cell_type": "code",
   "execution_count": 46,
   "metadata": {},
   "outputs": [
    {
     "data": {
      "text/plain": [
       "1    0.505702\n",
       "0    0.494298\n",
       "Name: target, dtype: float64"
      ]
     },
     "execution_count": 46,
     "metadata": {},
     "output_type": "execute_result"
    }
   ],
   "source": [
    "#Null accuracy\n",
    "y.value_counts(normalize=True)\n"
   ]
  },
  {
   "cell_type": "code",
   "execution_count": 47,
   "metadata": {
    "collapsed": true
   },
   "outputs": [],
   "source": [
    "#Train test split with random state = 20\n",
    "X_train, X_test, y_train, y_test = train_test_split(X,y,test_size = .25, random_state = 20)\n"
   ]
  },
  {
   "cell_type": "code",
   "execution_count": 50,
   "metadata": {},
   "outputs": [
    {
     "data": {
      "text/plain": [
       "0.7731481481481481"
      ]
     },
     "execution_count": 50,
     "metadata": {},
     "output_type": "execute_result"
    }
   ],
   "source": [
    "#Fit Ada boost model on training data and score it on testing\n",
    "\n",
    "ada.fit(X_train, y_train)\n",
    "\n",
    "ada.score(X_train, y_train)"
   ]
  },
  {
   "cell_type": "code",
   "execution_count": 51,
   "metadata": {},
   "outputs": [
    {
     "data": {
      "text/plain": [
       "0.6396039603960396"
      ]
     },
     "execution_count": 51,
     "metadata": {},
     "output_type": "execute_result"
    }
   ],
   "source": [
    "ada.score(X_test, y_test)"
   ]
  },
  {
   "cell_type": "markdown",
   "metadata": {},
   "source": [
    "Cross validate "
   ]
  },
  {
   "cell_type": "code",
   "execution_count": 52,
   "metadata": {},
   "outputs": [
    {
     "data": {
      "text/plain": [
       "0.6306463897010047"
      ]
     },
     "execution_count": 52,
     "metadata": {},
     "output_type": "execute_result"
    }
   ],
   "source": [
    "cross_val_score(ada, X, y, cv = 5, scoring = 'accuracy').mean()"
   ]
  },
  {
   "cell_type": "code",
   "execution_count": null,
   "metadata": {
    "collapsed": true
   },
   "outputs": [],
   "source": []
  },
  {
   "cell_type": "code",
   "execution_count": null,
   "metadata": {
    "collapsed": true
   },
   "outputs": [],
   "source": []
  },
  {
   "cell_type": "markdown",
   "metadata": {},
   "source": [
    "Cross validation shows AdaBoost is a decent but not great model.\n",
    "\n",
    "Perhaps we chose the wrong estimator value."
   ]
  },
  {
   "cell_type": "markdown",
   "metadata": {},
   "source": [
    "Let's make a validation curve to determine the best value for the estimator.\n",
    "\n",
    "<br>\n",
    "\n",
    "This will take a while."
   ]
  },
  {
   "cell_type": "code",
   "execution_count": 53,
   "metadata": {
    "collapsed": true
   },
   "outputs": [],
   "source": [
    "#We're going to time our code\n",
    "\n",
    "#Import time tool\n",
    "from time import time"
   ]
  },
  {
   "cell_type": "code",
   "execution_count": 55,
   "metadata": {},
   "outputs": [
    {
     "name": "stdout",
     "output_type": "stream",
     "text": [
      "84.8074119091\n"
     ]
    }
   ],
   "source": [
    "#Intialize time variable\n",
    "t = time()\n",
    "\n",
    "#Create list of estimator values\n",
    "estimators = range(50, 1050, 100)\n",
    "\n",
    "#Intialize cross validation scores list\n",
    "cv_scores = []\n",
    "\n",
    "#Iterate over estimators values, fit models, and then append scores to cv_scores\n",
    "for est in estimators:\n",
    "    model = AdaBoostClassifier(n_estimators=est)\n",
    "    score = cross_val_score(model, X, y, cv=5, scoring = 'accuracy').mean()\n",
    "    cv_scores.append(score)\n",
    "    \n",
    "    \n",
    "#Print difference in time\n",
    "\n",
    "print (time() - t)"
   ]
  },
  {
   "cell_type": "code",
   "execution_count": 56,
   "metadata": {},
   "outputs": [
    {
     "data": {
      "image/png": "[encoded data removed]",
      "text/plain": [
       "<matplotlib.figure.Figure at 0x113bbee10>"
      ]
     },
     "metadata": {},
     "output_type": "display_data"
    }
   ],
   "source": [
    "    \n",
    "#Plot estimators versus scores\n",
    "\n",
    "plt.figure(figsize= (8, 7))\n",
    "plt.plot(estimators, cv_scores, linewidth = 3)\n",
    "plt.xlabel(\"N Estimators\")\n",
    "plt.ylabel(\"Cross Validated Accuracy Scores\");"
   ]
  },
  {
   "cell_type": "code",
   "execution_count": 57,
   "metadata": {},
   "outputs": [
    {
     "data": {
      "text/plain": [
       "(0.6316549148711397, 50)"
      ]
     },
     "execution_count": 57,
     "metadata": {},
     "output_type": "execute_result"
    }
   ],
   "source": [
    "#Derive best estimator value\n",
    "sorted(zip(cv_scores, estimators), reverse = True)[0]"
   ]
  },
  {
   "cell_type": "code",
   "execution_count": null,
   "metadata": {
    "collapsed": true
   },
   "outputs": [],
   "source": []
  },
  {
   "cell_type": "code",
   "execution_count": null,
   "metadata": {
    "collapsed": true
   },
   "outputs": [],
   "source": []
  },
  {
   "cell_type": "markdown",
   "metadata": {},
   "source": [
    "## Classification Model Evaluation Techniques"
   ]
  },
  {
   "cell_type": "markdown",
   "metadata": {},
   "source": [
    "![s](http://www.dataschool.io/content/images/2015/01/confusion_matrix2.png)\n",
    "\n",
    "Source: Data Schoool"
   ]
  },
  {
   "cell_type": "markdown",
   "metadata": {},
   "source": [
    "**True Positives (TP):** Number of correct positive predictions\n",
    "\n",
    "**True Negatives (TN):** Number of correct negative predictions\n",
    "\n",
    "**False Positives (FP):** Number incorrect positive predictions\n",
    "\n",
    "**False Negatives (FN):** Number of incorrect negative predictions"
   ]
  },
  {
   "cell_type": "markdown",
   "metadata": {},
   "source": [
    "**Recall aka sensitivity aka the True Positive Rate:** The number of correct positive predictions divided by number of positive instances\n",
    "\n",
    "**Precision:** The number of correct positive predictions divided by number of positive predictions"
   ]
  },
  {
   "cell_type": "markdown",
   "metadata": {},
   "source": [
    "**False Positive Rate aka Fall Out:** The number of incorrect positive predictions divided by number of negative instances\n",
    "\n",
    "**True Negative Rate aka Specificity:** The number of correct negative predictions divided by number of negative instances "
   ]
  },
  {
   "cell_type": "markdown",
   "metadata": {},
   "source": [
    "Formula table:\n",
    "![a](http://www.chioka.in/wp-content/uploads/2013/08/Metrics-Table.png)"
   ]
  },
  {
   "cell_type": "markdown",
   "metadata": {},
   "source": [
    "Confusion matrix with metrics:\n",
    "\n",
    "![s](https://eus-www.sway-cdn.com/s/4YEmvTlyess2YF1M/images/VfcIF1yrYJrvLl?quality=1071&allowAnimation=true)"
   ]
  },
  {
   "cell_type": "markdown",
   "metadata": {},
   "source": [
    "Super confusion matrix:\n",
    "![q](https://image.ibb.co/bXkGxm/Screen_Shot_2017_11_28_at_12_03_48_PM.png)"
   ]
  },
  {
   "cell_type": "markdown",
   "metadata": {},
   "source": [
    "Source: Wikipedia"
   ]
  },
  {
   "cell_type": "code",
   "execution_count": null,
   "metadata": {
    "collapsed": true
   },
   "outputs": [],
   "source": []
  },
  {
   "cell_type": "markdown",
   "metadata": {},
   "source": [
    "Think about how these metrics can tell us more about the efficacy of a model as opposed to accuracy score.\n",
    "\n",
    "Is one metrics more useful than others? In which context would it make sense to evaluate a model based on FPR vs FNR?"
   ]
  },
  {
   "cell_type": "code",
   "execution_count": null,
   "metadata": {
    "collapsed": true
   },
   "outputs": [],
   "source": []
  },
  {
   "cell_type": "code",
   "execution_count": null,
   "metadata": {
    "collapsed": true
   },
   "outputs": [],
   "source": []
  },
  {
   "cell_type": "code",
   "execution_count": null,
   "metadata": {
    "collapsed": true
   },
   "outputs": [],
   "source": []
  },
  {
   "cell_type": "code",
   "execution_count": null,
   "metadata": {
    "collapsed": true
   },
   "outputs": [],
   "source": []
  },
  {
   "cell_type": "code",
   "execution_count": 58,
   "metadata": {
    "collapsed": true
   },
   "outputs": [],
   "source": [
    "#Train an Adaboost model with 50 estimators and make predictions using test set\n",
    "\n",
    "model = AdaBoostClassifier(n_estimators=50)\n",
    "model.fit(X_train, y_train)\n",
    "preds = model.predict(X_test)"
   ]
  },
  {
   "cell_type": "code",
   "execution_count": 59,
   "metadata": {},
   "outputs": [
    {
     "data": {
      "text/plain": [
       "1    0.536634\n",
       "0    0.463366\n",
       "Name: target, dtype: float64"
      ]
     },
     "execution_count": 59,
     "metadata": {},
     "output_type": "execute_result"
    }
   ],
   "source": [
    "#Null accuracy of y_test\n",
    "y_test.value_counts(normalize=True)"
   ]
  },
  {
   "cell_type": "code",
   "execution_count": 60,
   "metadata": {},
   "outputs": [
    {
     "data": {
      "text/plain": [
       "array([[165,  69],\n",
       "       [ 90, 181]])"
      ]
     },
     "execution_count": 60,
     "metadata": {},
     "output_type": "execute_result"
    }
   ],
   "source": [
    "#Pass the predictions and y_test into a confusion matrix\n",
    "cm = confusion_matrix(y_test, preds)\n",
    "cm"
   ]
  },
  {
   "cell_type": "code",
   "execution_count": 61,
   "metadata": {},
   "outputs": [
    {
     "data": {
      "text/html": [
       "<div>\n",
       "<style scoped>\n",
       "    .dataframe tbody tr th:only-of-type {\n",
       "        vertical-align: middle;\n",
       "    }\n",
       "\n",
       "    .dataframe tbody tr th {\n",
       "        vertical-align: top;\n",
       "    }\n",
       "\n",
       "    .dataframe thead th {\n",
       "        text-align: right;\n",
       "    }\n",
       "</style>\n",
       "<table border=\"1\" class=\"dataframe\">\n",
       "  <thead>\n",
       "    <tr style=\"text-align: right;\">\n",
       "      <th>col_0</th>\n",
       "      <th>0</th>\n",
       "      <th>1</th>\n",
       "    </tr>\n",
       "    <tr>\n",
       "      <th>target</th>\n",
       "      <th></th>\n",
       "      <th></th>\n",
       "    </tr>\n",
       "  </thead>\n",
       "  <tbody>\n",
       "    <tr>\n",
       "      <th>0</th>\n",
       "      <td>165</td>\n",
       "      <td>69</td>\n",
       "    </tr>\n",
       "    <tr>\n",
       "      <th>1</th>\n",
       "      <td>90</td>\n",
       "      <td>181</td>\n",
       "    </tr>\n",
       "  </tbody>\n",
       "</table>\n",
       "</div>"
      ],
      "text/plain": [
       "col_0     0    1\n",
       "target          \n",
       "0       165   69\n",
       "1        90  181"
      ]
     },
     "execution_count": 61,
     "metadata": {},
     "output_type": "execute_result"
    }
   ],
   "source": [
    "pd.crosstab(y_test, preds)"
   ]
  },
  {
   "cell_type": "code",
   "execution_count": null,
   "metadata": {
    "collapsed": true
   },
   "outputs": [],
   "source": []
  },
  {
   "cell_type": "code",
   "execution_count": null,
   "metadata": {
    "collapsed": true
   },
   "outputs": [],
   "source": []
  },
  {
   "cell_type": "code",
   "execution_count": null,
   "metadata": {
    "collapsed": true
   },
   "outputs": [],
   "source": []
  },
  {
   "cell_type": "code",
   "execution_count": null,
   "metadata": {
    "collapsed": true
   },
   "outputs": [],
   "source": []
  },
  {
   "cell_type": "markdown",
   "metadata": {},
   "source": [
    "Let's try calculating the TPR, TNR, FPR, and FNR rates manually"
   ]
  },
  {
   "cell_type": "code",
   "execution_count": 62,
   "metadata": {},
   "outputs": [
    {
     "data": {
      "text/plain": [
       "0.6678966789667896"
      ]
     },
     "execution_count": 62,
     "metadata": {},
     "output_type": "execute_result"
    }
   ],
   "source": [
    "#TPR\n",
    "cm[1,1]/float(cm.sum(axis=1)[1])"
   ]
  },
  {
   "cell_type": "code",
   "execution_count": 63,
   "metadata": {},
   "outputs": [
    {
     "data": {
      "text/plain": [
       "0.7051282051282052"
      ]
     },
     "execution_count": 63,
     "metadata": {},
     "output_type": "execute_result"
    }
   ],
   "source": [
    "#TNR\n",
    "cm[0,0]/float(cm.sum(axis=1)[0])"
   ]
  },
  {
   "cell_type": "code",
   "execution_count": 64,
   "metadata": {},
   "outputs": [
    {
     "data": {
      "text/plain": [
       "0.2948717948717949"
      ]
     },
     "execution_count": 64,
     "metadata": {},
     "output_type": "execute_result"
    }
   ],
   "source": [
    "#FPR\n",
    "cm[0,1]/float(cm.sum(axis=1)[0])"
   ]
  },
  {
   "cell_type": "code",
   "execution_count": 65,
   "metadata": {},
   "outputs": [
    {
     "data": {
      "text/plain": [
       "0.33210332103321033"
      ]
     },
     "execution_count": 65,
     "metadata": {},
     "output_type": "execute_result"
    }
   ],
   "source": [
    "#FNR\n",
    "cm[1,0]/float(cm.sum(axis=1)[1])"
   ]
  },
  {
   "cell_type": "code",
   "execution_count": null,
   "metadata": {
    "collapsed": true
   },
   "outputs": [],
   "source": []
  },
  {
   "cell_type": "markdown",
   "metadata": {},
   "source": [
    "If you were a spotify data scientist would you want a model that produces more false negatives or false positives?"
   ]
  },
  {
   "cell_type": "code",
   "execution_count": null,
   "metadata": {
    "collapsed": true
   },
   "outputs": [],
   "source": []
  },
  {
   "cell_type": "code",
   "execution_count": null,
   "metadata": {
    "collapsed": true
   },
   "outputs": [],
   "source": []
  },
  {
   "cell_type": "code",
   "execution_count": null,
   "metadata": {
    "collapsed": true
   },
   "outputs": [],
   "source": []
  },
  {
   "cell_type": "code",
   "execution_count": 66,
   "metadata": {},
   "outputs": [
    {
     "name": "stdout",
     "output_type": "stream",
     "text": [
      "The precision score is 0.72 and the recall score is 0.67\n"
     ]
    }
   ],
   "source": [
    "#Calculate precision and recall scores with sklearn\n",
    "ps = precision_score(y_test, preds)\n",
    "rs = recall_score(y_test, preds)\n",
    "\n",
    "print (\"The precision score is {:.2f} and the recall score is {:.2f}\".format(ps, rs))"
   ]
  },
  {
   "cell_type": "code",
   "execution_count": null,
   "metadata": {
    "collapsed": true
   },
   "outputs": [],
   "source": []
  },
  {
   "cell_type": "code",
   "execution_count": null,
   "metadata": {
    "collapsed": true
   },
   "outputs": [],
   "source": []
  },
  {
   "cell_type": "markdown",
   "metadata": {},
   "source": [
    "Cross validate with precision and recall"
   ]
  },
  {
   "cell_type": "code",
   "execution_count": 67,
   "metadata": {},
   "outputs": [
    {
     "data": {
      "text/plain": [
       "0.6341103637010331"
      ]
     },
     "execution_count": 67,
     "metadata": {},
     "output_type": "execute_result"
    }
   ],
   "source": [
    "#Precision\n",
    "cross_val_score(model, X, y, cv = 5, scoring = 'precision').mean()"
   ]
  },
  {
   "cell_type": "code",
   "execution_count": 68,
   "metadata": {},
   "outputs": [
    {
     "data": {
      "text/plain": [
       "0.6470588235294118"
      ]
     },
     "execution_count": 68,
     "metadata": {},
     "output_type": "execute_result"
    }
   ],
   "source": [
    "#Recall\n",
    "cross_val_score(model, X, y, cv = 5, scoring = 'recall').mean()"
   ]
  },
  {
   "cell_type": "markdown",
   "metadata": {},
   "source": [
    "![w](https://chrisalbon.com/images/machine_learning_flashcards/Receiver_Operating_Characteristic_print.png)"
   ]
  },
  {
   "cell_type": "markdown",
   "metadata": {},
   "source": [
    "ROC (receiver operating characteristic) curve is a commonly used way to visualize the performance of a binary classifier.\n",
    "\n",
    "AUC (area under curve) is arguably the best way to summarize a model performance's in a single number."
   ]
  },
  {
   "cell_type": "code",
   "execution_count": 69,
   "metadata": {
    "collapsed": true
   },
   "outputs": [],
   "source": [
    "#Derive probabilities of class 1 from the test set\n",
    "test_probs = model.predict_proba(X_test)[:, 1]\n",
    "#Pass in the test_probs variable and the true test labels aka y_test in the roc_curve function\n",
    "fpr, tpr, thres = roc_curve(y_test, test_probs)\n",
    "#Outputs the fpr, tpr, for varying thresholds"
   ]
  },
  {
   "cell_type": "code",
   "execution_count": 71,
   "metadata": {},
   "outputs": [
    {
     "data": {
      "text/plain": [
       "array([0.67395025, 0.51727539, 0.51485767, 0.51270979, 0.51047345,\n",
       "       0.50932908, 0.50832832, 0.50760983, 0.5071586 , 0.50643112,\n",
       "       0.50576681, 0.50554432, 0.50525943, 0.50406749, 0.50334189,\n",
       "       0.5030548 , 0.50261017, 0.50217822, 0.50132511, 0.50082492,\n",
       "       0.50050943, 0.50017328, 0.50004778, 0.49936235, 0.49899682,\n",
       "       0.49849238, 0.49784518, 0.49711748, 0.49673251, 0.49617644,\n",
       "       0.49551658, 0.49522865, 0.49494945, 0.49475385, 0.49417881,\n",
       "       0.49354574, 0.49311843, 0.49243828, 0.49045695, 0.48877836,\n",
       "       0.43393518, 0.42814894])"
      ]
     },
     "execution_count": 71,
     "metadata": {},
     "output_type": "execute_result"
    }
   ],
   "source": [
    "thres[::5]"
   ]
  },
  {
   "cell_type": "code",
   "execution_count": 70,
   "metadata": {
    "scrolled": false
   },
   "outputs": [
    {
     "data": {
      "image/png": "[encoded data removed]",
      "text/plain": [
       "<matplotlib.figure.Figure at 0x1a17ffbbd0>"
      ]
     },
     "metadata": {},
     "output_type": "display_data"
    }
   ],
   "source": [
    "#Plotting False Positive Rates vs the True Positive Rates\n",
    "#Dotted line represents a useless model\n",
    "plt.figure(figsize=(13,10))\n",
    "plt.plot(fpr, tpr, linewidth=8)\n",
    "#Line of randomness\n",
    "plt.plot([0,1], [0,1], \"--\", alpha=.7)\n",
    "plt.xlabel(\"False Positive Rate\")\n",
    "plt.ylabel(\"True Positive Rate\")\n",
    "plt.title(\"ROC Curve\")\n",
    "plt.show()"
   ]
  },
  {
   "cell_type": "code",
   "execution_count": null,
   "metadata": {
    "collapsed": true
   },
   "outputs": [],
   "source": []
  },
  {
   "cell_type": "code",
   "execution_count": null,
   "metadata": {
    "collapsed": true
   },
   "outputs": [],
   "source": []
  },
  {
   "cell_type": "markdown",
   "metadata": {},
   "source": [
    "How do you rate this model?"
   ]
  },
  {
   "cell_type": "code",
   "execution_count": null,
   "metadata": {
    "collapsed": true
   },
   "outputs": [],
   "source": []
  },
  {
   "cell_type": "code",
   "execution_count": 72,
   "metadata": {},
   "outputs": [
    {
     "data": {
      "text/plain": [
       "0.748091903995963"
      ]
     },
     "execution_count": 72,
     "metadata": {},
     "output_type": "execute_result"
    }
   ],
   "source": [
    "\n",
    "#Caculate the area under the curve score using roc_auc_score\n",
    "roc_auc_score(y_test, test_probs)"
   ]
  },
  {
   "cell_type": "code",
   "execution_count": 76,
   "metadata": {},
   "outputs": [
    {
     "data": {
      "text/plain": [
       "0.6592541506552371"
      ]
     },
     "execution_count": 76,
     "metadata": {},
     "output_type": "execute_result"
    }
   ],
   "source": [
    "#Cross validated roc_auc score\n",
    "cross_val_score(AdaBoostClassifier(n_estimators=50, algorithm= 'SAMME'),\n",
    "                X, y, cv = 5, scoring = 'roc_auc').mean()\n"
   ]
  },
  {
   "cell_type": "code",
   "execution_count": null,
   "metadata": {
    "collapsed": true
   },
   "outputs": [],
   "source": []
  },
  {
   "cell_type": "code",
   "execution_count": null,
   "metadata": {
    "collapsed": true
   },
   "outputs": [],
   "source": []
  },
  {
   "cell_type": "code",
   "execution_count": null,
   "metadata": {
    "collapsed": true
   },
   "outputs": [],
   "source": []
  },
  {
   "cell_type": "markdown",
   "metadata": {},
   "source": [
    "Plotting threshold vs FPR/TPR on the same plot"
   ]
  },
  {
   "cell_type": "code",
   "execution_count": 77,
   "metadata": {},
   "outputs": [
    {
     "data": {
      "image/png": "[encoded data removed]",
      "text/plain": [
       "<matplotlib.figure.Figure at 0x1139c5ed0>"
      ]
     },
     "metadata": {},
     "output_type": "display_data"
    }
   ],
   "source": [
    "plt.figure(figsize=(12,9))\n",
    "plt.plot(thres, fpr, linewidth=5, label = \"FPR Line\")\n",
    "plt.plot(thres, tpr, linewidth=5, label = \"TPR line\")\n",
    "plt.xlabel(\"Thresholds\")\n",
    "plt.ylabel(\"False Positive Rate\")\n",
    "plt.legend()\n",
    "plt.show();"
   ]
  },
  {
   "cell_type": "code",
   "execution_count": null,
   "metadata": {
    "collapsed": true
   },
   "outputs": [],
   "source": []
  },
  {
   "cell_type": "markdown",
   "metadata": {},
   "source": [
    "What do you see here? Why are is there a negative correlation in both lines?"
   ]
  },
  {
   "cell_type": "code",
   "execution_count": null,
   "metadata": {
    "collapsed": true
   },
   "outputs": [],
   "source": []
  },
  {
   "cell_type": "code",
   "execution_count": null,
   "metadata": {
    "collapsed": true
   },
   "outputs": [],
   "source": []
  },
  {
   "cell_type": "code",
   "execution_count": null,
   "metadata": {
    "collapsed": true
   },
   "outputs": [],
   "source": []
  },
  {
   "cell_type": "code",
   "execution_count": null,
   "metadata": {
    "collapsed": true
   },
   "outputs": [],
   "source": []
  },
  {
   "cell_type": "code",
   "execution_count": null,
   "metadata": {
    "collapsed": true
   },
   "outputs": [],
   "source": []
  },
  {
   "cell_type": "code",
   "execution_count": null,
   "metadata": {
    "collapsed": true
   },
   "outputs": [],
   "source": []
  },
  {
   "cell_type": "code",
   "execution_count": null,
   "metadata": {
    "collapsed": true
   },
   "outputs": [],
   "source": []
  },
  {
   "cell_type": "markdown",
   "metadata": {},
   "source": [
    "## Advanced Sklearn tools\n",
    "\n",
    "Overview:\n",
    "\n",
    "- Grid search\n",
    "- Pipelining\n",
    "- Imputation\n",
    "- Feature unions\n",
    "- Feature selections"
   ]
  },
  {
   "cell_type": "code",
   "execution_count": 78,
   "metadata": {},
   "outputs": [
    {
     "name": "stderr",
     "output_type": "stream",
     "text": [
      "/Users/kevinfranklin/anaconda2/envs/py27/lib/python2.7/site-packages/sklearn/grid_search.py:42: DeprecationWarning: This module was deprecated in version 0.18 in favor of the model_selection module into which all the refactored classes and functions are moved. This module will be removed in 0.20.\n",
      "  DeprecationWarning)\n"
     ]
    }
   ],
   "source": [
    "#More imports\n",
    "from sklearn.neighbors import KNeighborsClassifier\n",
    "from sklearn.grid_search import GridSearchCV\n",
    "from sklearn.preprocessing import StandardScaler\n",
    "from sklearn.pipeline import Pipeline, make_pipeline"
   ]
  },
  {
   "cell_type": "markdown",
   "metadata": {},
   "source": [
    "### Gridsearch\n",
    "\n",
    "Algorithm that tests every combination of model parameters to find the best one."
   ]
  },
  {
   "cell_type": "markdown",
   "metadata": {},
   "source": [
    "Let's use GridSearch to find the best K value for a KNN model and Spotify data"
   ]
  },
  {
   "cell_type": "code",
   "execution_count": 79,
   "metadata": {},
   "outputs": [
    {
     "data": {
      "text/plain": [
       "{'n_neighbors': [1, 3, 5, 7, 9, 11, 13, 15, 17, 19]}"
      ]
     },
     "execution_count": 79,
     "metadata": {},
     "output_type": "execute_result"
    }
   ],
   "source": [
    "#Intialize parameter grid\n",
    "\n",
    "#Range of neighbors to test\n",
    "neighbors_range = range(1,21,2)\n",
    "\n",
    "#Dictionary of parameter values \n",
    "param_grid_knn = {}\n",
    "param_grid_knn['n_neighbors'] = neighbors_range\n",
    "\n",
    "\n",
    "param_grid_knn"
   ]
  },
  {
   "cell_type": "code",
   "execution_count": 81,
   "metadata": {},
   "outputs": [
    {
     "data": {
      "text/plain": [
       "GridSearchCV(cv=5, error_score='raise',\n",
       "       estimator=KNeighborsClassifier(algorithm='auto', leaf_size=30, metric='minkowski',\n",
       "           metric_params=None, n_jobs=1, n_neighbors=5, p=2,\n",
       "           weights='uniform'),\n",
       "       fit_params={}, iid=True, n_jobs=1,\n",
       "       param_grid={'n_neighbors': [1, 3, 5, 7, 9, 11, 13, 15, 17, 19]},\n",
       "       pre_dispatch='2*n_jobs', refit=True, scoring='accuracy', verbose=0)"
      ]
     },
     "execution_count": 81,
     "metadata": {},
     "output_type": "execute_result"
    }
   ],
   "source": [
    "#Intialize Grid\n",
    "\n",
    "grid_knn = GridSearchCV(estimator=KNeighborsClassifier(),\n",
    "                       param_grid = param_grid_knn, cv = 5, scoring = 'accuracy')\n",
    "\n",
    "#Fit grid on data\n",
    "\n",
    "grid_knn.fit(X,y)"
   ]
  },
  {
   "cell_type": "code",
   "execution_count": 82,
   "metadata": {},
   "outputs": [
    {
     "data": {
      "text/plain": [
       "[mean: 0.56668, std: 0.03445, params: {'n_neighbors': 1},\n",
       " mean: 0.58404, std: 0.04995, params: {'n_neighbors': 3},\n",
       " mean: 0.58007, std: 0.05479, params: {'n_neighbors': 5},\n",
       " mean: 0.57759, std: 0.05078, params: {'n_neighbors': 7},\n",
       " mean: 0.58999, std: 0.05879, params: {'n_neighbors': 9},\n",
       " mean: 0.60337, std: 0.06452, params: {'n_neighbors': 11},\n",
       " mean: 0.59891, std: 0.05833, params: {'n_neighbors': 13},\n",
       " mean: 0.60089, std: 0.05880, params: {'n_neighbors': 15},\n",
       " mean: 0.59841, std: 0.05767, params: {'n_neighbors': 17},\n",
       " mean: 0.60139, std: 0.05741, params: {'n_neighbors': 19}]"
      ]
     },
     "execution_count": 82,
     "metadata": {},
     "output_type": "execute_result"
    }
   ],
   "source": [
    "#Scores\n",
    "grid_knn.grid_scores_"
   ]
  },
  {
   "cell_type": "code",
   "execution_count": 83,
   "metadata": {},
   "outputs": [
    {
     "data": {
      "text/plain": [
       "0.6033713435795737"
      ]
     },
     "execution_count": 83,
     "metadata": {},
     "output_type": "execute_result"
    }
   ],
   "source": [
    "#Whats the best cross validated accuracy score\n",
    "grid_knn.best_score_\n"
   ]
  },
  {
   "cell_type": "code",
   "execution_count": 84,
   "metadata": {},
   "outputs": [
    {
     "data": {
      "text/plain": [
       "{'n_neighbors': 11}"
      ]
     },
     "execution_count": 84,
     "metadata": {},
     "output_type": "execute_result"
    }
   ],
   "source": [
    "#Find the best parameters\n",
    "grid_knn.best_params_\n"
   ]
  },
  {
   "cell_type": "code",
   "execution_count": null,
   "metadata": {
    "collapsed": true
   },
   "outputs": [],
   "source": []
  },
  {
   "cell_type": "markdown",
   "metadata": {},
   "source": [
    "This simple technique gives us the best K value.\n",
    "\n",
    "We can use the best model from grid_knn to make predictions."
   ]
  },
  {
   "cell_type": "code",
   "execution_count": 85,
   "metadata": {},
   "outputs": [
    {
     "data": {
      "text/plain": [
       "array([1])"
      ]
     },
     "execution_count": 85,
     "metadata": {},
     "output_type": "execute_result"
    }
   ],
   "source": [
    "#Input \n",
    "x = [[0.2, .15, 0.68, 0.05, 0.328]]\n",
    "\n",
    "#Make prediction \n",
    "grid_knn.predict(x)"
   ]
  },
  {
   "cell_type": "code",
   "execution_count": 86,
   "metadata": {},
   "outputs": [
    {
     "data": {
      "text/plain": [
       "array([[0.18181818, 0.81818182]])"
      ]
     },
     "execution_count": 86,
     "metadata": {},
     "output_type": "execute_result"
    }
   ],
   "source": [
    "#Get probability\n",
    "grid_knn.predict_proba(x)"
   ]
  },
  {
   "cell_type": "code",
   "execution_count": null,
   "metadata": {
    "collapsed": true
   },
   "outputs": [],
   "source": []
  },
  {
   "cell_type": "code",
   "execution_count": null,
   "metadata": {
    "collapsed": true
   },
   "outputs": [],
   "source": []
  },
  {
   "cell_type": "markdown",
   "metadata": {},
   "source": [
    "Quick exercise:\n",
    "<br>\n",
    "Use grid search to determine the best depth value in a decision tree. Use depths from 2 - 20."
   ]
  },
  {
   "cell_type": "code",
   "execution_count": 87,
   "metadata": {},
   "outputs": [
    {
     "data": {
      "text/plain": [
       "{'max_depth': [2, 3, 4, 5, 6, 7, 8, 9, 10, 11, 12, 13, 14, 15, 16, 17, 18, 19]}"
      ]
     },
     "execution_count": 87,
     "metadata": {},
     "output_type": "execute_result"
    }
   ],
   "source": [
    "\n",
    "\n",
    "#Range of neighbors to test\n",
    "depths_range = range(2,20)\n",
    "\n",
    "#Dictionary of parameter values \n",
    "param_grid_dt = {}\n",
    "param_grid_dt['max_depth'] = depths_range\n",
    "\n",
    "param_grid_dt"
   ]
  },
  {
   "cell_type": "markdown",
   "metadata": {},
   "source": [
    "The CV in GridSearchCV stands for cross validation which means we have to set a cv and scoring value."
   ]
  },
  {
   "cell_type": "code",
   "execution_count": 88,
   "metadata": {},
   "outputs": [
    {
     "data": {
      "text/plain": [
       "GridSearchCV(cv=5, error_score='raise',\n",
       "       estimator=DecisionTreeClassifier(class_weight=None, criterion='gini', max_depth=None,\n",
       "            max_features=None, max_leaf_nodes=None,\n",
       "            min_impurity_decrease=0.0, min_impurity_split=None,\n",
       "            min_samples_leaf=1, min_samples_split=2,\n",
       "            min_weight_fraction_leaf=0.0, presort=False, random_state=None,\n",
       "            splitter='best'),\n",
       "       fit_params={}, iid=True, n_jobs=1,\n",
       "       param_grid={'max_depth': [2, 3, 4, 5, 6, 7, 8, 9, 10, 11, 12, 13, 14, 15, 16, 17, 18, 19]},\n",
       "       pre_dispatch='2*n_jobs', refit=True, scoring='accuracy', verbose=0)"
      ]
     },
     "execution_count": 88,
     "metadata": {},
     "output_type": "execute_result"
    }
   ],
   "source": [
    "#Intialize Grid\n",
    "\n",
    "grid_dt = GridSearchCV(estimator=DecisionTreeClassifier(),\n",
    "                      param_grid = param_grid_dt, cv = 5, scoring = 'accuracy')\n",
    "\n",
    "#Fit grid on data\n",
    "\n",
    "grid_dt.fit(X,y)"
   ]
  },
  {
   "cell_type": "code",
   "execution_count": 89,
   "metadata": {},
   "outputs": [
    {
     "data": {
      "text/plain": [
       "0.6618740704015865"
      ]
     },
     "execution_count": 89,
     "metadata": {},
     "output_type": "execute_result"
    }
   ],
   "source": [
    "#Best score for DT model\n",
    "grid_dt.best_score_"
   ]
  },
  {
   "cell_type": "code",
   "execution_count": 90,
   "metadata": {},
   "outputs": [
    {
     "data": {
      "text/plain": [
       "{'max_depth': 4}"
      ]
     },
     "execution_count": 90,
     "metadata": {},
     "output_type": "execute_result"
    }
   ],
   "source": [
    "#Best parameter for DT model\n",
    "grid_dt.best_params_"
   ]
  },
  {
   "cell_type": "code",
   "execution_count": 91,
   "metadata": {},
   "outputs": [
    {
     "data": {
      "text/plain": [
       "array([1])"
      ]
     },
     "execution_count": 91,
     "metadata": {},
     "output_type": "execute_result"
    }
   ],
   "source": [
    "#Make prediction\n",
    "\n",
    "grid_dt.predict(x)"
   ]
  },
  {
   "cell_type": "code",
   "execution_count": null,
   "metadata": {
    "collapsed": true
   },
   "outputs": [],
   "source": []
  },
  {
   "cell_type": "code",
   "execution_count": null,
   "metadata": {
    "collapsed": true
   },
   "outputs": [],
   "source": []
  },
  {
   "cell_type": "markdown",
   "metadata": {},
   "source": [
    "So far our grids have been one-dimensional, now let's try using multiple dimensions"
   ]
  },
  {
   "cell_type": "code",
   "execution_count": 92,
   "metadata": {},
   "outputs": [
    {
     "data": {
      "text/plain": [
       "{'criterion': ['gini', 'entropy'],\n",
       " 'max_depth': [2, 3, 4, 5, 6, 7, 8, 9, 10, 11, 12, 13, 14, 15, 16, 17, 18, 19]}"
      ]
     },
     "execution_count": 92,
     "metadata": {},
     "output_type": "execute_result"
    }
   ],
   "source": [
    "#Param grid with test different split criteria as well.\n",
    "param_grid_dt = {\"criterion\": [\"gini\", \"entropy\"], \"max_depth\": depths_range}\n",
    "\n",
    "param_grid_dt"
   ]
  },
  {
   "cell_type": "markdown",
   "metadata": {},
   "source": [
    "It's going to cross-validate every combination between the criterion parameters and depth parameters."
   ]
  },
  {
   "cell_type": "code",
   "execution_count": 93,
   "metadata": {},
   "outputs": [
    {
     "data": {
      "text/plain": [
       "GridSearchCV(cv=5, error_score='raise',\n",
       "       estimator=DecisionTreeClassifier(class_weight=None, criterion='gini', max_depth=None,\n",
       "            max_features=None, max_leaf_nodes=None,\n",
       "            min_impurity_decrease=0.0, min_impurity_split=None,\n",
       "            min_samples_leaf=1, min_samples_split=2,\n",
       "            min_weight_fraction_leaf=0.0, presort=False, random_state=None,\n",
       "            splitter='best'),\n",
       "       fit_params={}, iid=True, n_jobs=1,\n",
       "       param_grid={'criterion': ['gini', 'entropy'], 'max_depth': [2, 3, 4, 5, 6, 7, 8, 9, 10, 11, 12, 13, 14, 15, 16, 17, 18, 19]},\n",
       "       pre_dispatch='2*n_jobs', refit=True, scoring='accuracy', verbose=0)"
      ]
     },
     "execution_count": 93,
     "metadata": {},
     "output_type": "execute_result"
    }
   ],
   "source": [
    "#Intialize Grid\n",
    "grid_dt = GridSearchCV(estimator = DecisionTreeClassifier(), \n",
    "                        param_grid = param_grid_dt, cv = 5, scoring = \"accuracy\")\n",
    "#Fit grid on data\n",
    "grid_dt.fit(X, y)"
   ]
  },
  {
   "cell_type": "code",
   "execution_count": 94,
   "metadata": {},
   "outputs": [
    {
     "data": {
      "text/plain": [
       "{'criterion': 'gini', 'max_depth': 4}"
      ]
     },
     "execution_count": 94,
     "metadata": {},
     "output_type": "execute_result"
    }
   ],
   "source": [
    "#Best parameter\n",
    "\n",
    "grid_dt.best_params_"
   ]
  },
  {
   "cell_type": "code",
   "execution_count": 95,
   "metadata": {},
   "outputs": [
    {
     "data": {
      "text/plain": [
       "0.6618740704015865"
      ]
     },
     "execution_count": 95,
     "metadata": {},
     "output_type": "execute_result"
    }
   ],
   "source": [
    "#Best score\n",
    "\n",
    "grid_dt.best_score_"
   ]
  },
  {
   "cell_type": "code",
   "execution_count": null,
   "metadata": {
    "collapsed": true
   },
   "outputs": [],
   "source": []
  },
  {
   "cell_type": "markdown",
   "metadata": {},
   "source": [
    "How many models did this grid search function conduct?"
   ]
  },
  {
   "cell_type": "code",
   "execution_count": null,
   "metadata": {
    "collapsed": true
   },
   "outputs": [],
   "source": []
  },
  {
   "cell_type": "markdown",
   "metadata": {},
   "source": [
    "Let's add in some parameters"
   ]
  },
  {
   "cell_type": "code",
   "execution_count": 96,
   "metadata": {
    "collapsed": true
   },
   "outputs": [],
   "source": [
    "\n",
    "param_grid_dt[\"min_samples_split\"] =[2, 10, 20]\n",
    "param_grid_dt[\"max_features\"] = [1, 2, 3, 4, 5]"
   ]
  },
  {
   "cell_type": "code",
   "execution_count": 97,
   "metadata": {},
   "outputs": [
    {
     "name": "stdout",
     "output_type": "stream",
     "text": [
      "17.8532660007\n"
     ]
    }
   ],
   "source": [
    "#Intialize Grid\n",
    "grid_dt = GridSearchCV(estimator=DecisionTreeClassifier(), param_grid = param_grid_dt,\n",
    "                      cv = 5, scoring = 'accuracy')\n",
    "\n",
    "#Time the code \n",
    "\n",
    "t = time()\n",
    "\n",
    "#Fit grid on data\n",
    "grid_dt.fit(X,y)\n",
    "\n",
    "#Print time difference\n",
    "\n",
    "print (time() - t)"
   ]
  },
  {
   "cell_type": "code",
   "execution_count": 98,
   "metadata": {},
   "outputs": [
    {
     "data": {
      "text/plain": [
       "{'criterion': 'gini',\n",
       " 'max_depth': 6,\n",
       " 'max_features': 3,\n",
       " 'min_samples_split': 2}"
      ]
     },
     "execution_count": 98,
     "metadata": {},
     "output_type": "execute_result"
    }
   ],
   "source": [
    "#Best parameter\n",
    "\n",
    "grid_dt.best_params_"
   ]
  },
  {
   "cell_type": "code",
   "execution_count": 99,
   "metadata": {},
   "outputs": [
    {
     "data": {
      "text/plain": [
       "0.6712940009915717"
      ]
     },
     "execution_count": 99,
     "metadata": {},
     "output_type": "execute_result"
    }
   ],
   "source": [
    "#Best score\n",
    "\n",
    "grid_dt.best_score_"
   ]
  },
  {
   "cell_type": "code",
   "execution_count": null,
   "metadata": {
    "collapsed": true
   },
   "outputs": [],
   "source": [
    "#Make prediction\n",
    "\n"
   ]
  },
  {
   "cell_type": "code",
   "execution_count": null,
   "metadata": {
    "collapsed": true
   },
   "outputs": [],
   "source": []
  },
  {
   "cell_type": "code",
   "execution_count": null,
   "metadata": {
    "collapsed": true
   },
   "outputs": [],
   "source": []
  },
  {
   "cell_type": "code",
   "execution_count": null,
   "metadata": {
    "collapsed": true
   },
   "outputs": [],
   "source": []
  },
  {
   "cell_type": "markdown",
   "metadata": {},
   "source": [
    "Obviously grid search takes a long time and in some case can cause memory errors. This is where RandomizedSearchCV comes in."
   ]
  },
  {
   "cell_type": "code",
   "execution_count": 100,
   "metadata": {
    "collapsed": true
   },
   "outputs": [],
   "source": [
    "#Import \n",
    "from sklearn.grid_search import RandomizedSearchCV"
   ]
  },
  {
   "cell_type": "markdown",
   "metadata": {},
   "source": [
    "Functions just like GridSearchCV, except we have to choose a value n_iter which is the random number of combinations we testing and set param_distributions instead of param_grid."
   ]
  },
  {
   "cell_type": "code",
   "execution_count": 110,
   "metadata": {},
   "outputs": [
    {
     "name": "stdout",
     "output_type": "stream",
     "text": [
      "0.644793987274\n"
     ]
    }
   ],
   "source": [
    "#Intialize RandomizedSearchCV grid with n_iter = 20\n",
    "grid_dt = RandomizedSearchCV(estimator=DecisionTreeClassifier(), n_iter=20,\n",
    "                            param_distributions = param_grid_dt, cv = 5, scoring = 'accuracy')\n",
    "\n",
    "#Time the code \n",
    "\n",
    "t = time()\n",
    "\n",
    "#Fit grid on data\n",
    "grid_dt.fit(X,y)\n",
    "\n",
    "#Print time difference\n",
    "\n",
    "print (time() - t)"
   ]
  },
  {
   "cell_type": "code",
   "execution_count": null,
   "metadata": {
    "collapsed": true
   },
   "outputs": [],
   "source": []
  },
  {
   "cell_type": "markdown",
   "metadata": {},
   "source": [
    "Reduced run time by a huge percentage!\n",
    "\n",
    "But now let's see if we sacrificed performance."
   ]
  },
  {
   "cell_type": "code",
   "execution_count": null,
   "metadata": {
    "collapsed": true
   },
   "outputs": [],
   "source": []
  },
  {
   "cell_type": "code",
   "execution_count": 111,
   "metadata": {},
   "outputs": [
    {
     "data": {
      "text/plain": [
       "0.6504709965294992"
      ]
     },
     "execution_count": 111,
     "metadata": {},
     "output_type": "execute_result"
    }
   ],
   "source": [
    "#Check best score\n",
    "\n",
    "grid_dt.best_score_"
   ]
  },
  {
   "cell_type": "code",
   "execution_count": 112,
   "metadata": {},
   "outputs": [
    {
     "data": {
      "text/plain": [
       "{'criterion': 'gini',\n",
       " 'max_depth': 5,\n",
       " 'max_features': 5,\n",
       " 'min_samples_split': 10}"
      ]
     },
     "execution_count": 112,
     "metadata": {},
     "output_type": "execute_result"
    }
   ],
   "source": [
    "grid_dt.best_params_"
   ]
  },
  {
   "cell_type": "markdown",
   "metadata": {},
   "source": [
    "\n"
   ]
  },
  {
   "cell_type": "code",
   "execution_count": null,
   "metadata": {
    "collapsed": true
   },
   "outputs": [],
   "source": []
  },
  {
   "cell_type": "code",
   "execution_count": null,
   "metadata": {
    "collapsed": true
   },
   "outputs": [],
   "source": []
  },
  {
   "cell_type": "markdown",
   "metadata": {},
   "source": [
    "### Pipelines\n",
    "\n",
    "Let's go back to using the KNN model.\n"
   ]
  },
  {
   "cell_type": "markdown",
   "metadata": {},
   "source": [
    "We know that we need to scale our data for the KNN algorithm right?"
   ]
  },
  {
   "cell_type": "code",
   "execution_count": 113,
   "metadata": {
    "collapsed": true
   },
   "outputs": [],
   "source": [
    "#Scale data and fit it a Grid search function it.\n",
    "\n",
    "#Intialize scalar\n",
    "scale = StandardScaler()\n",
    "\n",
    "#Fit and transform scaler on the data\n",
    "Xs = scale.fit_transform(X)"
   ]
  },
  {
   "cell_type": "code",
   "execution_count": 114,
   "metadata": {},
   "outputs": [
    {
     "data": {
      "text/plain": [
       "GridSearchCV(cv=5, error_score='raise',\n",
       "       estimator=KNeighborsClassifier(algorithm='auto', leaf_size=30, metric='minkowski',\n",
       "           metric_params=None, n_jobs=1, n_neighbors=5, p=2,\n",
       "           weights='uniform'),\n",
       "       fit_params={}, iid=True, n_jobs=1,\n",
       "       param_grid={'n_neighbors': [1, 3, 5, 7, 9, 11, 13, 15, 17, 19]},\n",
       "       pre_dispatch='2*n_jobs', refit=True, scoring='accuracy', verbose=0)"
      ]
     },
     "execution_count": 114,
     "metadata": {},
     "output_type": "execute_result"
    }
   ],
   "source": [
    "#Intialize Grid\n",
    "\n",
    "grid_knn_s = GridSearchCV(estimator = KNeighborsClassifier(), \n",
    "                        param_grid = param_grid_knn, cv = 5, scoring = \"accuracy\")\n",
    "\n",
    "#Fit grid on scaled data\n",
    "\n",
    "grid_knn_s.fit(Xs, y)"
   ]
  },
  {
   "cell_type": "code",
   "execution_count": 115,
   "metadata": {},
   "outputs": [
    {
     "data": {
      "text/plain": [
       "0.6043629152206247"
      ]
     },
     "execution_count": 115,
     "metadata": {},
     "output_type": "execute_result"
    }
   ],
   "source": [
    "#Best score\n",
    "grid_knn_s.best_score_"
   ]
  },
  {
   "cell_type": "code",
   "execution_count": 116,
   "metadata": {},
   "outputs": [
    {
     "data": {
      "text/plain": [
       "{'n_neighbors': 17}"
      ]
     },
     "execution_count": 116,
     "metadata": {},
     "output_type": "execute_result"
    }
   ],
   "source": [
    "#Best K value\n",
    "grid_knn_s.best_params_"
   ]
  },
  {
   "cell_type": "code",
   "execution_count": null,
   "metadata": {
    "collapsed": true
   },
   "outputs": [],
   "source": [
    "#Make prediction\n",
    "\n",
    "#First transform predict using scaler\n",
    "\n",
    "xs = \n",
    "\n",
    "#Pass in xs to grid model\n",
    "\n"
   ]
  },
  {
   "cell_type": "code",
   "execution_count": null,
   "metadata": {
    "collapsed": true
   },
   "outputs": [],
   "source": []
  },
  {
   "cell_type": "markdown",
   "metadata": {},
   "source": [
    "Time to make a pipeline."
   ]
  },
  {
   "cell_type": "code",
   "execution_count": 120,
   "metadata": {
    "collapsed": true
   },
   "outputs": [],
   "source": [
    "#Pass scaler and knn classifier objects into make_pipeline function\n",
    "pipe = make_pipeline(StandardScaler(), KNeighborsClassifier())"
   ]
  },
  {
   "cell_type": "code",
   "execution_count": 124,
   "metadata": {},
   "outputs": [
    {
     "data": {
      "text/plain": [
       "{'kneighborsclassifier__n_neighbors': [2,\n",
       "  3,\n",
       "  4,\n",
       "  5,\n",
       "  6,\n",
       "  7,\n",
       "  8,\n",
       "  9,\n",
       "  10,\n",
       "  11,\n",
       "  12,\n",
       "  13,\n",
       "  14,\n",
       "  15,\n",
       "  16,\n",
       "  17,\n",
       "  18,\n",
       "  19,\n",
       "  20]}"
      ]
     },
     "execution_count": 124,
     "metadata": {},
     "output_type": "execute_result"
    }
   ],
   "source": [
    "#Create new param_grid\n",
    "neighbors_range = range(2, 21)\n",
    "param_grid_knn = {}\n",
    "param_grid_knn[\"kneighborsclassifier__n_neighbors\"] = neighbors_range\n",
    "param_grid_knn"
   ]
  },
  {
   "cell_type": "code",
   "execution_count": 125,
   "metadata": {},
   "outputs": [
    {
     "name": "stdout",
     "output_type": "stream",
     "text": [
      "0.606346058503 {'kneighborsclassifier__n_neighbors': 17}\n"
     ]
    }
   ],
   "source": [
    "\n",
    "#Pass in pipe into GridSearchCV function, \n",
    "grid_knn_pipe = GridSearchCV(pipe, param_grid=param_grid_knn, cv=5, scoring='accuracy')\n",
    "\n",
    "#Fit on original versions of data\n",
    "grid_knn_pipe.fit(X, y)\n",
    "\n",
    "#Best scores and params\n",
    "print grid_knn_pipe.best_score_, grid_knn_pipe.best_params_"
   ]
  },
  {
   "cell_type": "code",
   "execution_count": null,
   "metadata": {
    "collapsed": true
   },
   "outputs": [],
   "source": []
  },
  {
   "cell_type": "markdown",
   "metadata": {},
   "source": [
    "You can also pass in the pipe object into a cross_val_score function"
   ]
  },
  {
   "cell_type": "code",
   "execution_count": 126,
   "metadata": {},
   "outputs": [
    {
     "data": {
      "text/plain": [
       "0.5775851902808146"
      ]
     },
     "execution_count": 126,
     "metadata": {},
     "output_type": "execute_result"
    }
   ],
   "source": [
    "# Use the cross-validation process using Pipeline\n",
    "pipe = make_pipeline(StandardScaler(), KNeighborsClassifier(n_neighbors=3))\n",
    "cross_val_score(pipe, X, y, cv=5, scoring='accuracy').mean()"
   ]
  },
  {
   "cell_type": "code",
   "execution_count": null,
   "metadata": {
    "collapsed": true
   },
   "outputs": [],
   "source": []
  },
  {
   "cell_type": "code",
   "execution_count": null,
   "metadata": {
    "collapsed": true
   },
   "outputs": [],
   "source": []
  },
  {
   "cell_type": "markdown",
   "metadata": {},
   "source": [
    "Class exercise: Use grid search to model the 2016 Democratic primary data with the person who is next to you at your table. "
   ]
  },
  {
   "cell_type": "code",
   "execution_count": 127,
   "metadata": {},
   "outputs": [
    {
     "data": {
      "text/html": [
       "<div>\n",
       "<style scoped>\n",
       "    .dataframe tbody tr th:only-of-type {\n",
       "        vertical-align: middle;\n",
       "    }\n",
       "\n",
       "    .dataframe tbody tr th {\n",
       "        vertical-align: top;\n",
       "    }\n",
       "\n",
       "    .dataframe thead th {\n",
       "        text-align: right;\n",
       "    }\n",
       "</style>\n",
       "<table border=\"1\" class=\"dataframe\">\n",
       "  <thead>\n",
       "    <tr style=\"text-align: right;\">\n",
       "      <th></th>\n",
       "      <th>population</th>\n",
       "      <th>pop_change</th>\n",
       "      <th>senior_pop_per</th>\n",
       "      <th>female_pop_per</th>\n",
       "      <th>black_pop_per</th>\n",
       "      <th>white_pop_per</th>\n",
       "      <th>foreign_pop_per</th>\n",
       "      <th>college_degree_pop_</th>\n",
       "      <th>commute_time</th>\n",
       "      <th>median_income</th>\n",
       "      <th>poverty_rate</th>\n",
       "      <th>pop_density</th>\n",
       "      <th>winner</th>\n",
       "    </tr>\n",
       "    <tr>\n",
       "      <th>fips</th>\n",
       "      <th></th>\n",
       "      <th></th>\n",
       "      <th></th>\n",
       "      <th></th>\n",
       "      <th></th>\n",
       "      <th></th>\n",
       "      <th></th>\n",
       "      <th></th>\n",
       "      <th></th>\n",
       "      <th></th>\n",
       "      <th></th>\n",
       "      <th></th>\n",
       "      <th></th>\n",
       "    </tr>\n",
       "  </thead>\n",
       "  <tbody>\n",
       "    <tr>\n",
       "      <th>1001</th>\n",
       "      <td>55395</td>\n",
       "      <td>1.5</td>\n",
       "      <td>13.8</td>\n",
       "      <td>51.4</td>\n",
       "      <td>18.7</td>\n",
       "      <td>75.6</td>\n",
       "      <td>1.6</td>\n",
       "      <td>20.9</td>\n",
       "      <td>26.2</td>\n",
       "      <td>53682</td>\n",
       "      <td>12.1</td>\n",
       "      <td>91.8</td>\n",
       "      <td>H</td>\n",
       "    </tr>\n",
       "    <tr>\n",
       "      <th>1003</th>\n",
       "      <td>200111</td>\n",
       "      <td>9.8</td>\n",
       "      <td>18.7</td>\n",
       "      <td>51.2</td>\n",
       "      <td>9.6</td>\n",
       "      <td>83.0</td>\n",
       "      <td>3.6</td>\n",
       "      <td>27.7</td>\n",
       "      <td>25.9</td>\n",
       "      <td>50221</td>\n",
       "      <td>13.9</td>\n",
       "      <td>114.6</td>\n",
       "      <td>H</td>\n",
       "    </tr>\n",
       "    <tr>\n",
       "      <th>1005</th>\n",
       "      <td>26887</td>\n",
       "      <td>-2.1</td>\n",
       "      <td>16.5</td>\n",
       "      <td>46.6</td>\n",
       "      <td>47.6</td>\n",
       "      <td>46.6</td>\n",
       "      <td>2.9</td>\n",
       "      <td>13.4</td>\n",
       "      <td>24.6</td>\n",
       "      <td>32911</td>\n",
       "      <td>26.7</td>\n",
       "      <td>31.0</td>\n",
       "      <td>H</td>\n",
       "    </tr>\n",
       "    <tr>\n",
       "      <th>1007</th>\n",
       "      <td>22506</td>\n",
       "      <td>-1.8</td>\n",
       "      <td>14.8</td>\n",
       "      <td>45.9</td>\n",
       "      <td>22.1</td>\n",
       "      <td>74.5</td>\n",
       "      <td>1.2</td>\n",
       "      <td>12.1</td>\n",
       "      <td>27.6</td>\n",
       "      <td>36447</td>\n",
       "      <td>18.1</td>\n",
       "      <td>36.8</td>\n",
       "      <td>H</td>\n",
       "    </tr>\n",
       "    <tr>\n",
       "      <th>1009</th>\n",
       "      <td>57719</td>\n",
       "      <td>0.7</td>\n",
       "      <td>17.0</td>\n",
       "      <td>50.5</td>\n",
       "      <td>1.8</td>\n",
       "      <td>87.8</td>\n",
       "      <td>4.3</td>\n",
       "      <td>12.1</td>\n",
       "      <td>33.9</td>\n",
       "      <td>44145</td>\n",
       "      <td>15.8</td>\n",
       "      <td>88.9</td>\n",
       "      <td>H</td>\n",
       "    </tr>\n",
       "  </tbody>\n",
       "</table>\n",
       "</div>"
      ],
      "text/plain": [
       "      population  pop_change  senior_pop_per  female_pop_per  black_pop_per  \\\n",
       "fips                                                                          \n",
       "1001       55395         1.5            13.8            51.4           18.7   \n",
       "1003      200111         9.8            18.7            51.2            9.6   \n",
       "1005       26887        -2.1            16.5            46.6           47.6   \n",
       "1007       22506        -1.8            14.8            45.9           22.1   \n",
       "1009       57719         0.7            17.0            50.5            1.8   \n",
       "\n",
       "      white_pop_per  foreign_pop_per  college_degree_pop_  commute_time  \\\n",
       "fips                                                                      \n",
       "1001           75.6              1.6                 20.9          26.2   \n",
       "1003           83.0              3.6                 27.7          25.9   \n",
       "1005           46.6              2.9                 13.4          24.6   \n",
       "1007           74.5              1.2                 12.1          27.6   \n",
       "1009           87.8              4.3                 12.1          33.9   \n",
       "\n",
       "      median_income  poverty_rate  pop_density winner  \n",
       "fips                                                   \n",
       "1001          53682          12.1         91.8      H  \n",
       "1003          50221          13.9        114.6      H  \n",
       "1005          32911          26.7         31.0      H  \n",
       "1007          36447          18.1         36.8      H  \n",
       "1009          44145          15.8         88.9      H  "
      ]
     },
     "execution_count": 127,
     "metadata": {},
     "output_type": "execute_result"
    }
   ],
   "source": [
    "#Load in data files\n",
    "primary = pd.read_csv(\"../../data/primary_data//primary_results.csv\")\n",
    "county = pd.read_csv(\"../../data/primary_data/county_facts.csv\")\n",
    "county_dict = pd.read_csv(\"../../data/primary_data/county_facts_dictionary.csv\")\n",
    "\n",
    "subset_col_index = [0,3,5,9,10,12,18,20,23,25,33,34,53]\n",
    "\n",
    "county = county.iloc[:,subset_col_index].copy()\n",
    "\n",
    "subset_cols = [\"fips\",\"population\", \"pop_change\", \"senior_pop_per\", \"female_pop_per\", \"black_pop_per\",\n",
    "               \"white_pop_per\", \"foreign_pop_per\", \"college_degree_pop_\", \"commute_time\", \"median_income\",\n",
    "               \"poverty_rate\", \"pop_density\"]\n",
    "\n",
    "col_dict = dict(zip(county.columns, subset_cols))\n",
    "#Use dictionary to rename the columns\n",
    "county.rename(columns=col_dict, inplace=True)\n",
    "primary.dropna(inplace=True)\n",
    "bern = primary[primary.candidate== \"Bernie Sanders\"]\n",
    "hill = primary[primary.candidate== \"Hillary Clinton\"]\n",
    "bern = bern[[\"fips\", \"candidate\", \"votes\"]]\n",
    "dem = pd.merge(hill, bern, on=\"fips\")\n",
    "dem.rename(columns={\"votes_x\":\"clinton_votes\", \"votes_y\":\"sanders_votes\"}, inplace=True)\n",
    "dem[\"winner\"] = dem.clinton_votes - dem.sanders_votes\n",
    "def vote_winner(x):\n",
    "    if x >0:\n",
    "        return \"H\"\n",
    "    elif x == 0:\n",
    "        return \"TIE\"\n",
    "    else:\n",
    "        return \"B\"\n",
    "    \n",
    "dem[\"winner\"] = dem.winner.apply(vote_winner)\n",
    "\n",
    "dem = dem[dem.winner!= \"TIE\"]\n",
    "dem = dem[[\"fips\", \"winner\"]]\n",
    "df = pd.merge(county, dem, on=\"fips\")\n",
    "df.set_index(\"fips\", inplace=True)\n",
    "df.head()"
   ]
  },
  {
   "cell_type": "code",
   "execution_count": null,
   "metadata": {
    "collapsed": true
   },
   "outputs": [],
   "source": [
    "#Answer\n",
    "\n"
   ]
  },
  {
   "cell_type": "code",
   "execution_count": null,
   "metadata": {
    "collapsed": true
   },
   "outputs": [],
   "source": []
  },
  {
   "cell_type": "code",
   "execution_count": null,
   "metadata": {
    "collapsed": true
   },
   "outputs": [],
   "source": []
  },
  {
   "cell_type": "code",
   "execution_count": null,
   "metadata": {
    "collapsed": true
   },
   "outputs": [],
   "source": []
  },
  {
   "cell_type": "code",
   "execution_count": null,
   "metadata": {
    "collapsed": true
   },
   "outputs": [],
   "source": []
  },
  {
   "cell_type": "markdown",
   "metadata": {},
   "source": [
    "Now let's make a pipeline using regression"
   ]
  },
  {
   "cell_type": "code",
   "execution_count": 128,
   "metadata": {
    "collapsed": true
   },
   "outputs": [],
   "source": [
    "#Imports\n",
    "from sklearn.preprocessing import PolynomialFeatures\n",
    "from sklearn.pipeline import Pipeline\n",
    "from sklearn.linear_model import LinearRegression"
   ]
  },
  {
   "cell_type": "code",
   "execution_count": 129,
   "metadata": {},
   "outputs": [
    {
     "data": {
      "text/html": [
       "<div>\n",
       "<style scoped>\n",
       "    .dataframe tbody tr th:only-of-type {\n",
       "        vertical-align: middle;\n",
       "    }\n",
       "\n",
       "    .dataframe tbody tr th {\n",
       "        vertical-align: top;\n",
       "    }\n",
       "\n",
       "    .dataframe thead th {\n",
       "        text-align: right;\n",
       "    }\n",
       "</style>\n",
       "<table border=\"1\" class=\"dataframe\">\n",
       "  <thead>\n",
       "    <tr style=\"text-align: right;\">\n",
       "      <th></th>\n",
       "      <th>CRIM</th>\n",
       "      <th>ZN</th>\n",
       "      <th>INDUS</th>\n",
       "      <th>CHAS</th>\n",
       "      <th>NOX</th>\n",
       "      <th>RM</th>\n",
       "      <th>AGE</th>\n",
       "      <th>DIS</th>\n",
       "      <th>RAD</th>\n",
       "      <th>TAX</th>\n",
       "      <th>PTRATIO</th>\n",
       "      <th>B</th>\n",
       "      <th>LSTAT</th>\n",
       "      <th>MEDV</th>\n",
       "    </tr>\n",
       "  </thead>\n",
       "  <tbody>\n",
       "    <tr>\n",
       "      <th>0</th>\n",
       "      <td>0.00632</td>\n",
       "      <td>18.0</td>\n",
       "      <td>2.31</td>\n",
       "      <td>0.0</td>\n",
       "      <td>0.538</td>\n",
       "      <td>6.575</td>\n",
       "      <td>65.2</td>\n",
       "      <td>4.0900</td>\n",
       "      <td>1.0</td>\n",
       "      <td>296.0</td>\n",
       "      <td>15.3</td>\n",
       "      <td>396.90</td>\n",
       "      <td>4.98</td>\n",
       "      <td>24.0</td>\n",
       "    </tr>\n",
       "    <tr>\n",
       "      <th>1</th>\n",
       "      <td>0.02731</td>\n",
       "      <td>0.0</td>\n",
       "      <td>7.07</td>\n",
       "      <td>0.0</td>\n",
       "      <td>0.469</td>\n",
       "      <td>6.421</td>\n",
       "      <td>78.9</td>\n",
       "      <td>4.9671</td>\n",
       "      <td>2.0</td>\n",
       "      <td>242.0</td>\n",
       "      <td>17.8</td>\n",
       "      <td>396.90</td>\n",
       "      <td>9.14</td>\n",
       "      <td>21.6</td>\n",
       "    </tr>\n",
       "    <tr>\n",
       "      <th>2</th>\n",
       "      <td>0.02729</td>\n",
       "      <td>0.0</td>\n",
       "      <td>7.07</td>\n",
       "      <td>0.0</td>\n",
       "      <td>0.469</td>\n",
       "      <td>7.185</td>\n",
       "      <td>61.1</td>\n",
       "      <td>4.9671</td>\n",
       "      <td>2.0</td>\n",
       "      <td>242.0</td>\n",
       "      <td>17.8</td>\n",
       "      <td>392.83</td>\n",
       "      <td>4.03</td>\n",
       "      <td>34.7</td>\n",
       "    </tr>\n",
       "    <tr>\n",
       "      <th>3</th>\n",
       "      <td>0.03237</td>\n",
       "      <td>0.0</td>\n",
       "      <td>2.18</td>\n",
       "      <td>0.0</td>\n",
       "      <td>0.458</td>\n",
       "      <td>6.998</td>\n",
       "      <td>45.8</td>\n",
       "      <td>6.0622</td>\n",
       "      <td>3.0</td>\n",
       "      <td>222.0</td>\n",
       "      <td>18.7</td>\n",
       "      <td>394.63</td>\n",
       "      <td>2.94</td>\n",
       "      <td>33.4</td>\n",
       "    </tr>\n",
       "    <tr>\n",
       "      <th>4</th>\n",
       "      <td>0.06905</td>\n",
       "      <td>0.0</td>\n",
       "      <td>2.18</td>\n",
       "      <td>0.0</td>\n",
       "      <td>0.458</td>\n",
       "      <td>7.147</td>\n",
       "      <td>54.2</td>\n",
       "      <td>6.0622</td>\n",
       "      <td>3.0</td>\n",
       "      <td>222.0</td>\n",
       "      <td>18.7</td>\n",
       "      <td>396.90</td>\n",
       "      <td>5.33</td>\n",
       "      <td>36.2</td>\n",
       "    </tr>\n",
       "  </tbody>\n",
       "</table>\n",
       "</div>"
      ],
      "text/plain": [
       "      CRIM    ZN  INDUS  CHAS    NOX     RM   AGE     DIS  RAD    TAX  \\\n",
       "0  0.00632  18.0   2.31   0.0  0.538  6.575  65.2  4.0900  1.0  296.0   \n",
       "1  0.02731   0.0   7.07   0.0  0.469  6.421  78.9  4.9671  2.0  242.0   \n",
       "2  0.02729   0.0   7.07   0.0  0.469  7.185  61.1  4.9671  2.0  242.0   \n",
       "3  0.03237   0.0   2.18   0.0  0.458  6.998  45.8  6.0622  3.0  222.0   \n",
       "4  0.06905   0.0   2.18   0.0  0.458  7.147  54.2  6.0622  3.0  222.0   \n",
       "\n",
       "   PTRATIO       B  LSTAT  MEDV  \n",
       "0     15.3  396.90   4.98  24.0  \n",
       "1     17.8  396.90   9.14  21.6  \n",
       "2     17.8  392.83   4.03  34.7  \n",
       "3     18.7  394.63   2.94  33.4  \n",
       "4     18.7  396.90   5.33  36.2  "
      ]
     },
     "execution_count": 129,
     "metadata": {},
     "output_type": "execute_result"
    }
   ],
   "source": [
    "#Load in boston dataset\n",
    "from sklearn.datasets import load_boston\n",
    "boston = load_boston()\n",
    "df = pd.DataFrame(boston[\"data\"])\n",
    "df.columns = boston[\"feature_names\"]\n",
    "df[\"MEDV\"] = boston[\"target\"]\n",
    "df.head()"
   ]
  },
  {
   "cell_type": "code",
   "execution_count": 130,
   "metadata": {},
   "outputs": [
    {
     "data": {
      "text/plain": [
       "['Boston House Prices dataset',\n",
       " '===========================',\n",
       " '',\n",
       " 'Notes',\n",
       " '------',\n",
       " 'Data Set Characteristics:  ',\n",
       " '',\n",
       " '    :Number of Instances: 506 ',\n",
       " '',\n",
       " '    :Number of Attributes: 13 numeric/categorical predictive',\n",
       " '    ',\n",
       " '    :Median Value (attribute 14) is usually the target',\n",
       " '',\n",
       " '    :Attribute Information (in order):',\n",
       " '        - CRIM     per capita crime rate by town',\n",
       " '        - ZN       proportion of residential land zoned for lots over 25,000 sq.ft.',\n",
       " '        - INDUS    proportion of non-retail business acres per town',\n",
       " '        - CHAS     Charles River dummy variable (= 1 if tract bounds river; 0 otherwise)',\n",
       " '        - NOX      nitric oxides concentration (parts per 10 million)',\n",
       " '        - RM       average number of rooms per dwelling',\n",
       " '        - AGE      proportion of owner-occupied units built prior to 1940',\n",
       " '        - DIS      weighted distances to five Boston employment centres',\n",
       " '        - RAD      index of accessibility to radial highways',\n",
       " '        - TAX      full-value property-tax rate per $10,000',\n",
       " '        - PTRATIO  pupil-teacher ratio by town',\n",
       " '        - B        1000(Bk - 0.63)^2 where Bk is the proportion of blacks by town',\n",
       " '        - LSTAT    % lower status of the population',\n",
       " \"        - MEDV     Median value of owner-occupied homes in $1000's\",\n",
       " '',\n",
       " '    :Missing Attribute Values: None',\n",
       " '',\n",
       " '    :Creator: Harrison, D. and Rubinfeld, D.L.',\n",
       " '',\n",
       " 'This is a copy of UCI ML housing dataset.',\n",
       " 'http://archive.ics.uci.edu/ml/datasets/Housing',\n",
       " '',\n",
       " '',\n",
       " 'This dataset was taken from the StatLib library which is maintained at Carnegie Mellon University.',\n",
       " '',\n",
       " \"The Boston house-price data of Harrison, D. and Rubinfeld, D.L. 'Hedonic\",\n",
       " \"prices and the demand for clean air', J. Environ. Economics & Management,\",\n",
       " \"vol.5, 81-102, 1978.   Used in Belsley, Kuh & Welsch, 'Regression diagnostics\",\n",
       " \"...', Wiley, 1980.   N.B. Various transformations are used in the table on\",\n",
       " 'pages 244-261 of the latter.',\n",
       " '',\n",
       " 'The Boston house-price data has been used in many machine learning papers that address regression',\n",
       " 'problems.   ',\n",
       " '     ',\n",
       " '**References**',\n",
       " '',\n",
       " \"   - Belsley, Kuh & Welsch, 'Regression diagnostics: Identifying Influential Data and Sources of Collinearity', Wiley, 1980. 244-261.\",\n",
       " '   - Quinlan,R. (1993). Combining Instance-Based and Model-Based Learning. In Proceedings on the Tenth International Conference of Machine Learning, 236-243, University of Massachusetts, Amherst. Morgan Kaufmann.',\n",
       " '   - many more! (see http://archive.ics.uci.edu/ml/datasets/Housing)',\n",
       " '']"
      ]
     },
     "execution_count": 130,
     "metadata": {},
     "output_type": "execute_result"
    }
   ],
   "source": [
    "boston[\"DESCR\"].split(\"\\n\")"
   ]
  },
  {
   "cell_type": "code",
   "execution_count": 131,
   "metadata": {
    "collapsed": true
   },
   "outputs": [],
   "source": [
    "#Assign X and y\n",
    "\n",
    "X = df.drop(\"MEDV\", axis =1)\n",
    "y = df.MEDV"
   ]
  },
  {
   "cell_type": "code",
   "execution_count": 132,
   "metadata": {
    "collapsed": true
   },
   "outputs": [],
   "source": [
    "#Use a Pipeline Class instead of function to establish pipeline\n",
    "pipe_poly = Pipeline(steps=[('polynomialfeatures', PolynomialFeatures()),\n",
    "                           ('linearregression', LinearRegression())])"
   ]
  },
  {
   "cell_type": "code",
   "execution_count": 133,
   "metadata": {
    "collapsed": true
   },
   "outputs": [],
   "source": [
    "#Select a few features from X\n",
    "XX = X[[\"RM\", \"DIS\", \"NOX\", \"CRIM\"]].copy()"
   ]
  },
  {
   "cell_type": "code",
   "execution_count": 134,
   "metadata": {
    "collapsed": true
   },
   "outputs": [],
   "source": [
    "#Intialize range values for poly\n",
    "poly_range = [1, 2, 3, 4, 5, 6, 7]\n",
    "\n",
    "#Intialize grid dictionary\n",
    "param_grid_poly = {}\n",
    "\n",
    "#Input grid values\n",
    "param_grid_poly[\"polynomialfeatures__degree\"] = poly_range\n",
    "\n",
    "#Establish the grid\n",
    "poly_grid = GridSearchCV(pipe_poly, \n",
    "                         param_grid = param_grid_poly, cv=5, \n",
    "                         scoring='neg_mean_squared_error')"
   ]
  },
  {
   "cell_type": "code",
   "execution_count": 135,
   "metadata": {},
   "outputs": [
    {
     "data": {
      "text/plain": [
       "GridSearchCV(cv=5, error_score='raise',\n",
       "       estimator=Pipeline(memory=None,\n",
       "     steps=[('polynomialfeatures', PolynomialFeatures(degree=2, include_bias=True, interaction_only=False)), ('linearregression', LinearRegression(copy_X=True, fit_intercept=True, n_jobs=1, normalize=False))]),\n",
       "       fit_params={}, iid=True, n_jobs=1,\n",
       "       param_grid={'polynomialfeatures__degree': [1, 2, 3, 4, 5, 6, 7]},\n",
       "       pre_dispatch='2*n_jobs', refit=True,\n",
       "       scoring='neg_mean_squared_error', verbose=0)"
      ]
     },
     "execution_count": 135,
     "metadata": {},
     "output_type": "execute_result"
    }
   ],
   "source": [
    "# Fit on data\n",
    "\n",
    "poly_grid.fit(XX, y)"
   ]
  },
  {
   "cell_type": "code",
   "execution_count": 139,
   "metadata": {},
   "outputs": [
    {
     "data": {
      "text/plain": [
       "{'polynomialfeatures__degree': 2}"
      ]
     },
     "execution_count": 139,
     "metadata": {},
     "output_type": "execute_result"
    }
   ],
   "source": [
    "poly_grid.best_params_"
   ]
  },
  {
   "cell_type": "code",
   "execution_count": 140,
   "metadata": {},
   "outputs": [
    {
     "data": {
      "text/plain": [
       "-43.396873892606294"
      ]
     },
     "execution_count": 140,
     "metadata": {},
     "output_type": "execute_result"
    }
   ],
   "source": [
    "poly_grid.best_score_"
   ]
  },
  {
   "cell_type": "markdown",
   "metadata": {},
   "source": [
    "Randomized Grid Search with Ridge regression"
   ]
  },
  {
   "cell_type": "code",
   "execution_count": 141,
   "metadata": {
    "collapsed": true
   },
   "outputs": [],
   "source": [
    "from sklearn.linear_model import Ridge"
   ]
  },
  {
   "cell_type": "code",
   "execution_count": 146,
   "metadata": {},
   "outputs": [
    {
     "data": {
      "text/plain": [
       "RandomizedSearchCV(cv=5, error_score='raise',\n",
       "          estimator=Pipeline(memory=None,\n",
       "     steps=[('polynomialfeatures', PolynomialFeatures(degree=2, include_bias=True, interaction_only=False)), ('ridgeregression', Ridge(alpha=1.0, copy_X=True, fit_intercept=True, max_iter=None,\n",
       "   normalize=False, random_state=None, solver='auto', tol=0.001))]),\n",
       "          fit_params={}, iid=True, n_iter=5, n_jobs=1,\n",
       "          param_distributions={'ridgeregression__alpha': [0.001, 0.01, 0.1, 1, 10, 100], 'polynomialfeatures__degree': [1, 2, 3, 4, 5]},\n",
       "          pre_dispatch='2*n_jobs', random_state=None, refit=True,\n",
       "          scoring='neg_mean_squared_error', verbose=0)"
      ]
     },
     "execution_count": 146,
     "metadata": {},
     "output_type": "execute_result"
    }
   ],
   "source": [
    "pipe_poly = Pipeline(steps=[('polynomialfeatures', PolynomialFeatures()),\n",
    "                            ('ridgeregression', Ridge())]) \n",
    "\n",
    "param_grid_ridge = {'polynomialfeatures__degree': [1, 2, 3, 4, 5],\n",
    "              'ridgeregression__alpha': [0.001, 0.01, 0.1, 1, 10, 100]}\n",
    "\n",
    "grid_ridge = RandomizedSearchCV(pipe_poly, param_distributions=param_grid_ridge, \n",
    "                                n_iter = 5 , cv = 5, scoring='neg_mean_squared_error')\n",
    "grid_ridge.fit(XX, y)"
   ]
  },
  {
   "cell_type": "code",
   "execution_count": 147,
   "metadata": {},
   "outputs": [
    {
     "name": "stdout",
     "output_type": "stream",
     "text": [
      "({'ridgeregression__alpha': 100, 'polynomialfeatures__degree': 2}, -33.582796688492174)\n"
     ]
    }
   ],
   "source": [
    "print (grid_ridge.best_params_, grid_ridge.best_score_)"
   ]
  },
  {
   "cell_type": "code",
   "execution_count": null,
   "metadata": {
    "collapsed": true
   },
   "outputs": [],
   "source": []
  },
  {
   "cell_type": "markdown",
   "metadata": {},
   "source": [
    "## Resources\n",
    "\n",
    "<b> Boosting: </b>\n",
    "\n",
    "- https://machinelearningmastery.com/gentle-introduction-gradient-boosting-algorithm-machine-learning/\n",
    "\n",
    "- https://www.analyticsvidhya.com/blog/2015/11/quick-introduction-boosting-algorithms-machine-learning/\n",
    "\n",
    "- http://blog.kaggle.com/2017/01/23/a-kaggle-master-explains-gradient-boosting/\n",
    "\n",
    "- https://www.youtube.com/watch?v=Rm6s6gmLTdg&list=PLaslQpv_LmSKxSCBPdKWEI7lLHrTCeewl\n",
    "\n",
    "- https://www.coursera.org/learn/practical-machine-learning/lecture/9mGzA/boosting\n",
    "\n",
    "<b> Grid Search and Pipelines </b>\n",
    "\n",
    "- https://chrisalbon.com/machine-learning/cross_validation_parameter_tuning_grid_search.html\n",
    "- https://machinelearningmastery.com/how-to-tune-algorithm-parameters-with-scikit-learn/\n",
    "- https://www.youtube.com/watch?v=Gol_qOgRqfA\n",
    "- https://chrisalbon.com/machine-learning/pipelines_with_parameter_optimization.html\n",
    "- https://chrisalbon.com/machine-learning/hyperparameter_tuning_using_random_search.html\n",
    "- https://machinelearningmastery.com/automate-machine-learning-workflows-pipelines-python-scikit-learn/\n",
    "- https://www.civisanalytics.com/blog/workflows-in-python-using-pipeline-and-gridsearchcv-for-more-compact-and-comprehensive-code/\n",
    "\n",
    "\n",
    "Evalution:\n",
    "- http://www.dataschool.io/roc-curves-and-auc-explained/\n",
    "- http://people.inf.elte.hu/kiss/13dwhdm/roc.pdf\n",
    "\n",
    "\n"
   ]
  },
  {
   "cell_type": "code",
   "execution_count": null,
   "metadata": {
    "collapsed": true
   },
   "outputs": [],
   "source": []
  },
  {
   "cell_type": "markdown",
   "metadata": {},
   "source": [
    "# In class work.\n",
    "\n",
    "Choose one of the following dataset to work on modeling for the rest of class using the new models and tools we've learned in the past couple weeks.\n",
    "\n",
    "<br>\n",
    "Spotify, Dem Primary, KC Housing, Movie Metadata, HR Employee, Breast Cancer, Default, Mushrooms, Red win quality, Zillow starter, or Pokemon."
   ]
  },
  {
   "cell_type": "code",
   "execution_count": null,
   "metadata": {
    "collapsed": true
   },
   "outputs": [],
   "source": []
  }
 ],
 "metadata": {
  "kernelspec": {
   "display_name": "Python 2",
   "language": "python",
   "name": "python2"
  },
  "language_info": {
   "codemirror_mode": {
    "name": "ipython",
    "version": 2
   },
   "file_extension": ".py",
   "mimetype": "text/x-python",
   "name": "python",
   "nbconvert_exporter": "python",
   "pygments_lexer": "ipython2",
   "version": "2.7.14"
  }
 },
 "nbformat": 4,
 "nbformat_minor": 2
}
